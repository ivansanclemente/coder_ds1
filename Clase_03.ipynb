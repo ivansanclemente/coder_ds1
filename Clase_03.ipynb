{
 "cells": [
  {
   "cell_type": "markdown",
   "metadata": {
    "id": "qNS_LtcvlIxp"
   },
   "source": [
    "# Operadores Matematicos"
   ]
  },
  {
   "cell_type": "code",
   "execution_count": 1,
   "metadata": {
    "colab": {
     "base_uri": "https://localhost:8080/"
    },
    "executionInfo": {
     "elapsed": 11,
     "status": "ok",
     "timestamp": 1660693809316,
     "user": {
      "displayName": "Sebastian Gaviria",
      "userId": "11345011720690763343"
     },
     "user_tz": 300
    },
    "id": "vKfV2rZzXLz0",
    "outputId": "0e056e71-c194-40e2-fc11-2c07ea175e2d"
   },
   "outputs": [
    {
     "name": "stdout",
     "output_type": "stream",
     "text": [
      "16.3\n"
     ]
    }
   ],
   "source": [
    "x = 15 + 1.3\n",
    "  \n",
    "print(x)"
   ]
  },
  {
   "cell_type": "code",
   "execution_count": 2,
   "metadata": {
    "colab": {
     "base_uri": "https://localhost:8080/"
    },
    "executionInfo": {
     "elapsed": 11,
     "status": "ok",
     "timestamp": 1660693809318,
     "user": {
      "displayName": "Sebastian Gaviria",
      "userId": "11345011720690763343"
     },
     "user_tz": 300
    },
    "id": "FbXFdY1ZasT9",
    "outputId": "05172364-b20f-4617-9585-edd157a6a4cc"
   },
   "outputs": [
    {
     "name": "stdout",
     "output_type": "stream",
     "text": [
      "52\n",
      "28\n",
      "480\n",
      "3.3333333333333335\n"
     ]
    }
   ],
   "source": [
    "x = 40\n",
    "y = 12\n",
    "  \n",
    "add = x + y\n",
    "sub = x - y\n",
    "pro = x * y\n",
    "div = x / y\n",
    "  \n",
    "print(add)\n",
    "print(sub)\n",
    "print(pro)\n",
    "print(div)"
   ]
  },
  {
   "cell_type": "code",
   "execution_count": 3,
   "metadata": {
    "colab": {
     "base_uri": "https://localhost:8080/"
    },
    "executionInfo": {
     "elapsed": 183,
     "status": "ok",
     "timestamp": 1660702595856,
     "user": {
      "displayName": "Oswaldo Villa Pérez",
      "userId": "18212702333962823769"
     },
     "user_tz": 300
    },
    "id": "SVN3NDWqbFHQ",
    "outputId": "6cbd8d6b-533a-40ab-ab3b-45329bc34138"
   },
   "outputs": [
    {
     "name": "stdout",
     "output_type": "stream",
     "text": [
      "25\n"
     ]
    }
   ],
   "source": [
    "a = 13\n",
    "b = 12.0\n",
    "  \n",
    "c = a + int(b)\n",
    "print(c)"
   ]
  },
  {
   "cell_type": "code",
   "execution_count": 4,
   "metadata": {
    "colab": {
     "base_uri": "https://localhost:8080/"
    },
    "executionInfo": {
     "elapsed": 347,
     "status": "ok",
     "timestamp": 1660693816203,
     "user": {
      "displayName": "Sebastian Gaviria",
      "userId": "11345011720690763343"
     },
     "user_tz": 300
    },
    "id": "n7FX9R68bYki",
    "outputId": "ebb90f8b-33c0-4ca5-f3cc-5ffd853a3f82"
   },
   "outputs": [
    {
     "name": "stdout",
     "output_type": "stream",
     "text": [
      "2.6\n"
     ]
    }
   ],
   "source": [
    "a = 13\n",
    "b = 5\n",
    "  \n",
    "c = a / b\n",
    "print(c)"
   ]
  },
  {
   "cell_type": "markdown",
   "metadata": {
    "id": "HclmFDdpXWd4"
   },
   "source": [
    "# Desafio generico"
   ]
  },
  {
   "cell_type": "markdown",
   "metadata": {
    "id": "Ofv1tHEg7dVT"
   },
   "source": [
    "# Lectura de informacion\n",
    "\n",
    "Los datos se encuentran en la siguiente link:\n",
    "[Data Acciones](https://raw.githubusercontent.com/JJTorresDS/stocks-ds-edu/main/stocks.csv)\n",
    "\n"
   ]
  },
  {
   "cell_type": "code",
   "execution_count": 5,
   "metadata": {
    "colab": {
     "base_uri": "https://localhost:8080/"
    },
    "executionInfo": {
     "elapsed": 648,
     "status": "ok",
     "timestamp": 1660702788120,
     "user": {
      "displayName": "Oswaldo Villa Pérez",
      "userId": "18212702333962823769"
     },
     "user_tz": 300
    },
    "id": "UBQeIbm17wPf",
    "outputId": "7866cec9-0209-49f2-925c-fb807c97e91c"
   },
   "outputs": [
    {
     "name": "stdout",
     "output_type": "stream",
     "text": [
      "                       MCD       SBUX        GOOG        AMZN       MSFT  \\\n",
      "formatted_date                                                             \n",
      "2016-01-01      106.332146  54.353962  742.950012  587.000000  49.853489   \n",
      "2016-02-01      100.671043  52.064243  697.770020  552.520020  46.043667   \n",
      "2016-03-01      108.782211  53.571442  744.950012  593.640015  50.339031   \n",
      "2016-04-01      109.483307  50.457645  693.010010  659.590027  45.453705   \n",
      "2016-05-01      105.648926  49.255203  735.719971  722.789978  48.306515   \n",
      "\n",
      "                      JPM        BAC          C        MAR        HLT  \\\n",
      "formatted_date                                                          \n",
      "2016-01-01      50.424938  12.573010  36.897804  57.754189  35.192841   \n",
      "2016-02-01      48.033066  11.132540  33.707108  64.228912  41.061607   \n",
      "2016-03-01      50.524323  12.021718  36.223217  67.336624  44.499886   \n",
      "2016-04-01      53.919910  12.995729  40.153545  66.305466  43.716049   \n",
      "2016-05-01      56.098225  13.201019  40.447887  62.474155  41.198154   \n",
      "\n",
      "                      RCL          V         MA       PYPL  \n",
      "formatted_date                                              \n",
      "2016-01-01      74.235298  71.574371  85.822624  36.139999  \n",
      "2016-02-01      67.360649  69.556580  83.956566  38.139999  \n",
      "2016-03-01      74.790009  73.631477  91.278160  38.599998  \n",
      "2016-04-01      70.465584  74.363144  93.683258  39.180000  \n",
      "2016-05-01      70.456474  75.999847  92.817329  37.790001  \n"
     ]
    }
   ],
   "source": [
    "import pandas as pd\n",
    "\n",
    "url = 'https://raw.githubusercontent.com/JJTorresDS/stocks-ds-edu/main/stocks.csv'\n",
    "df = pd.read_csv(url, index_col=0)\n",
    "print(df.head(5))"
   ]
  },
  {
   "cell_type": "code",
   "execution_count": 6,
   "metadata": {
    "colab": {
     "base_uri": "https://localhost:8080/",
     "height": 237
    },
    "executionInfo": {
     "elapsed": 140,
     "status": "ok",
     "timestamp": 1660702803775,
     "user": {
      "displayName": "Oswaldo Villa Pérez",
      "userId": "18212702333962823769"
     },
     "user_tz": 300
    },
    "id": "nwtJItv78FYY",
    "outputId": "c2befec0-736d-48dd-9537-83ac378fb253"
   },
   "outputs": [
    {
     "data": {
      "text/html": [
       "<div>\n",
       "<style scoped>\n",
       "    .dataframe tbody tr th:only-of-type {\n",
       "        vertical-align: middle;\n",
       "    }\n",
       "\n",
       "    .dataframe tbody tr th {\n",
       "        vertical-align: top;\n",
       "    }\n",
       "\n",
       "    .dataframe thead th {\n",
       "        text-align: right;\n",
       "    }\n",
       "</style>\n",
       "<table border=\"1\" class=\"dataframe\">\n",
       "  <thead>\n",
       "    <tr style=\"text-align: right;\">\n",
       "      <th></th>\n",
       "      <th>MCD</th>\n",
       "      <th>SBUX</th>\n",
       "      <th>GOOG</th>\n",
       "      <th>AMZN</th>\n",
       "      <th>MSFT</th>\n",
       "      <th>JPM</th>\n",
       "      <th>BAC</th>\n",
       "      <th>C</th>\n",
       "      <th>MAR</th>\n",
       "      <th>HLT</th>\n",
       "      <th>RCL</th>\n",
       "      <th>V</th>\n",
       "      <th>MA</th>\n",
       "      <th>PYPL</th>\n",
       "    </tr>\n",
       "    <tr>\n",
       "      <th>formatted_date</th>\n",
       "      <th></th>\n",
       "      <th></th>\n",
       "      <th></th>\n",
       "      <th></th>\n",
       "      <th></th>\n",
       "      <th></th>\n",
       "      <th></th>\n",
       "      <th></th>\n",
       "      <th></th>\n",
       "      <th></th>\n",
       "      <th></th>\n",
       "      <th></th>\n",
       "      <th></th>\n",
       "      <th></th>\n",
       "    </tr>\n",
       "  </thead>\n",
       "  <tbody>\n",
       "    <tr>\n",
       "      <th>2016-01-01</th>\n",
       "      <td>106.332146</td>\n",
       "      <td>54.353962</td>\n",
       "      <td>742.950012</td>\n",
       "      <td>587.000000</td>\n",
       "      <td>49.853489</td>\n",
       "      <td>50.424938</td>\n",
       "      <td>12.573010</td>\n",
       "      <td>36.897804</td>\n",
       "      <td>57.754189</td>\n",
       "      <td>35.192841</td>\n",
       "      <td>74.235298</td>\n",
       "      <td>71.574371</td>\n",
       "      <td>85.822624</td>\n",
       "      <td>36.139999</td>\n",
       "    </tr>\n",
       "    <tr>\n",
       "      <th>2016-02-01</th>\n",
       "      <td>100.671043</td>\n",
       "      <td>52.064243</td>\n",
       "      <td>697.770020</td>\n",
       "      <td>552.520020</td>\n",
       "      <td>46.043667</td>\n",
       "      <td>48.033066</td>\n",
       "      <td>11.132540</td>\n",
       "      <td>33.707108</td>\n",
       "      <td>64.228912</td>\n",
       "      <td>41.061607</td>\n",
       "      <td>67.360649</td>\n",
       "      <td>69.556580</td>\n",
       "      <td>83.956566</td>\n",
       "      <td>38.139999</td>\n",
       "    </tr>\n",
       "    <tr>\n",
       "      <th>2016-03-01</th>\n",
       "      <td>108.782211</td>\n",
       "      <td>53.571442</td>\n",
       "      <td>744.950012</td>\n",
       "      <td>593.640015</td>\n",
       "      <td>50.339031</td>\n",
       "      <td>50.524323</td>\n",
       "      <td>12.021718</td>\n",
       "      <td>36.223217</td>\n",
       "      <td>67.336624</td>\n",
       "      <td>44.499886</td>\n",
       "      <td>74.790009</td>\n",
       "      <td>73.631477</td>\n",
       "      <td>91.278160</td>\n",
       "      <td>38.599998</td>\n",
       "    </tr>\n",
       "    <tr>\n",
       "      <th>2016-04-01</th>\n",
       "      <td>109.483307</td>\n",
       "      <td>50.457645</td>\n",
       "      <td>693.010010</td>\n",
       "      <td>659.590027</td>\n",
       "      <td>45.453705</td>\n",
       "      <td>53.919910</td>\n",
       "      <td>12.995729</td>\n",
       "      <td>40.153545</td>\n",
       "      <td>66.305466</td>\n",
       "      <td>43.716049</td>\n",
       "      <td>70.465584</td>\n",
       "      <td>74.363144</td>\n",
       "      <td>93.683258</td>\n",
       "      <td>39.180000</td>\n",
       "    </tr>\n",
       "    <tr>\n",
       "      <th>2016-05-01</th>\n",
       "      <td>105.648926</td>\n",
       "      <td>49.255203</td>\n",
       "      <td>735.719971</td>\n",
       "      <td>722.789978</td>\n",
       "      <td>48.306515</td>\n",
       "      <td>56.098225</td>\n",
       "      <td>13.201019</td>\n",
       "      <td>40.447887</td>\n",
       "      <td>62.474155</td>\n",
       "      <td>41.198154</td>\n",
       "      <td>70.456474</td>\n",
       "      <td>75.999847</td>\n",
       "      <td>92.817329</td>\n",
       "      <td>37.790001</td>\n",
       "    </tr>\n",
       "  </tbody>\n",
       "</table>\n",
       "</div>"
      ],
      "text/plain": [
       "                       MCD       SBUX        GOOG        AMZN       MSFT  \\\n",
       "formatted_date                                                             \n",
       "2016-01-01      106.332146  54.353962  742.950012  587.000000  49.853489   \n",
       "2016-02-01      100.671043  52.064243  697.770020  552.520020  46.043667   \n",
       "2016-03-01      108.782211  53.571442  744.950012  593.640015  50.339031   \n",
       "2016-04-01      109.483307  50.457645  693.010010  659.590027  45.453705   \n",
       "2016-05-01      105.648926  49.255203  735.719971  722.789978  48.306515   \n",
       "\n",
       "                      JPM        BAC          C        MAR        HLT  \\\n",
       "formatted_date                                                          \n",
       "2016-01-01      50.424938  12.573010  36.897804  57.754189  35.192841   \n",
       "2016-02-01      48.033066  11.132540  33.707108  64.228912  41.061607   \n",
       "2016-03-01      50.524323  12.021718  36.223217  67.336624  44.499886   \n",
       "2016-04-01      53.919910  12.995729  40.153545  66.305466  43.716049   \n",
       "2016-05-01      56.098225  13.201019  40.447887  62.474155  41.198154   \n",
       "\n",
       "                      RCL          V         MA       PYPL  \n",
       "formatted_date                                              \n",
       "2016-01-01      74.235298  71.574371  85.822624  36.139999  \n",
       "2016-02-01      67.360649  69.556580  83.956566  38.139999  \n",
       "2016-03-01      74.790009  73.631477  91.278160  38.599998  \n",
       "2016-04-01      70.465584  74.363144  93.683258  39.180000  \n",
       "2016-05-01      70.456474  75.999847  92.817329  37.790001  "
      ]
     },
     "execution_count": 6,
     "metadata": {},
     "output_type": "execute_result"
    }
   ],
   "source": [
    "df.head()"
   ]
  },
  {
   "cell_type": "markdown",
   "metadata": {
    "id": "b2VuYDsS8Ihe"
   },
   "source": [
    "Miremos el tamaño de nuestro datraframe"
   ]
  },
  {
   "cell_type": "code",
   "execution_count": 7,
   "metadata": {
    "colab": {
     "base_uri": "https://localhost:8080/"
    },
    "executionInfo": {
     "elapsed": 116,
     "status": "ok",
     "timestamp": 1660702833093,
     "user": {
      "displayName": "Oswaldo Villa Pérez",
      "userId": "18212702333962823769"
     },
     "user_tz": 300
    },
    "id": "QeyozF0i8Kfb",
    "outputId": "2a373c67-2764-44d9-a214-6c6a9088ebd8"
   },
   "outputs": [
    {
     "data": {
      "text/plain": [
       "(71, 14)"
      ]
     },
     "execution_count": 7,
     "metadata": {},
     "output_type": "execute_result"
    }
   ],
   "source": [
    "df.shape"
   ]
  },
  {
   "cell_type": "markdown",
   "metadata": {
    "id": "ZJAOuD7O8LjI"
   },
   "source": [
    "11 filas x 14 columnas"
   ]
  },
  {
   "cell_type": "markdown",
   "metadata": {
    "id": "ytyHdFzvC6ed"
   },
   "source": [
    "Las columnas son los precios de acciones de:\n",
    "\n",
    "1. MCD: Macdonals\n",
    "2. SBUX: Starbucks\n",
    "3. GOOG: Google\n",
    "4. AMZN: Amazon\n",
    "5. MSFT: Microsoft\n",
    "6. JPM: JPMorgan Chase & Co.\n",
    "7. BAC: Bank of America Corp\n",
    "8. C: Citigroup\n",
    "9. MAR: Pharma MAr\n",
    "10. HLT: Hoteles Hilton\n",
    "11. RCL: Royal Caribbean Cruises\n",
    "12. V: Visa Inc.\n",
    "13. MA: Mastercard \n",
    "14. PYPL: Paypal"
   ]
  },
  {
   "cell_type": "markdown",
   "metadata": {
    "id": "TUW-Dq0oXRSf"
   },
   "source": [
    "# Parte 1"
   ]
  },
  {
   "cell_type": "markdown",
   "metadata": {
    "id": "b9n7zuxd8Njf"
   },
   "source": [
    "# Analizando el comportamiento de una serie de tiempo"
   ]
  },
  {
   "cell_type": "code",
   "execution_count": 8,
   "metadata": {
    "colab": {
     "base_uri": "https://localhost:8080/",
     "height": 421
    },
    "executionInfo": {
     "elapsed": 10,
     "status": "ok",
     "timestamp": 1660683564859,
     "user": {
      "displayName": "Oswaldo Villa Pérez",
      "userId": "18212702333962823769"
     },
     "user_tz": 300
    },
    "id": "bDXqJ3mW8RLY",
    "outputId": "ae1f43c6-cc70-47fc-9e0c-dbbdda917066"
   },
   "outputs": [
    {
     "data": {
      "text/plain": [
       "<Axes: title={'center': 'Precio Accion vs Fecha'}, xlabel='Fecha', ylabel='Precio Accion'>"
      ]
     },
     "execution_count": 8,
     "metadata": {},
     "output_type": "execute_result"
    },
    {
     "data": {
      "image/png": "[encoded data removed]",
      "text/plain": [
       "<Figure size 1000x600 with 1 Axes>"
      ]
     },
     "metadata": {},
     "output_type": "display_data"
    }
   ],
   "source": [
    "df['GOOG'].plot(kind='line',figsize=(10,6),xlabel='Fecha', ylabel='Precio Accion', title='Precio Accion vs Fecha')"
   ]
  },
  {
   "cell_type": "code",
   "execution_count": 19,
   "metadata": {},
   "outputs": [
    {
     "data": {
      "text/plain": [
       "<Axes: title={'center': 'Precio Accion vs Fecha'}, xlabel='Fecha', ylabel='Precio Accion'>"
      ]
     },
     "execution_count": 19,
     "metadata": {},
     "output_type": "execute_result"
    },
    {
     "data": {
      "image/png": "[encoded data removed]",
      "text/plain": [
       "<Figure size 1000x600 with 1 Axes>"
      ]
     },
     "metadata": {},
     "output_type": "display_data"
    }
   ],
   "source": [
    "df['AMZN'].plot(kind='line',figsize=(10,6),xlabel='Fecha', ylabel='Precio Accion', title='Precio Accion vs Fecha')"
   ]
  },
  {
   "cell_type": "markdown",
   "metadata": {
    "id": "h5j609z182p2"
   },
   "source": [
    "Se observa un comportamiento creciente entre el 01/01/21 hasta el 11/01/2021 "
   ]
  },
  {
   "cell_type": "markdown",
   "metadata": {
    "id": "YXP3OX7KVPpJ"
   },
   "source": [
    "# Extraccion usando indices booleanos"
   ]
  },
  {
   "cell_type": "code",
   "execution_count": 9,
   "metadata": {
    "colab": {
     "base_uri": "https://localhost:8080/"
    },
    "executionInfo": {
     "elapsed": 193,
     "status": "ok",
     "timestamp": 1660685210561,
     "user": {
      "displayName": "Oswaldo Villa Pérez",
      "userId": "18212702333962823769"
     },
     "user_tz": 300
    },
    "id": "oxKuxq5mVg7-",
    "outputId": "3aeec31d-e65f-47a9-8932-a7fb2d70432c"
   },
   "outputs": [
    {
     "data": {
      "text/plain": [
       "['GOOG']"
      ]
     },
     "execution_count": 9,
     "metadata": {},
     "output_type": "execute_result"
    }
   ],
   "source": [
    "columnas=list(df.columns)\n",
    "\n",
    "google= [x for x in columnas if x =='GOOG']\n",
    "google"
   ]
  },
  {
   "cell_type": "code",
   "execution_count": 10,
   "metadata": {
    "colab": {
     "base_uri": "https://localhost:8080/",
     "height": 455
    },
    "executionInfo": {
     "elapsed": 12,
     "status": "ok",
     "timestamp": 1660683565202,
     "user": {
      "displayName": "Oswaldo Villa Pérez",
      "userId": "18212702333962823769"
     },
     "user_tz": 300
    },
    "id": "c4uPOHZDVRpm",
    "outputId": "43d10d7e-e331-4e28-b8b0-496172319f76"
   },
   "outputs": [
    {
     "data": {
      "text/html": [
       "<div>\n",
       "<style scoped>\n",
       "    .dataframe tbody tr th:only-of-type {\n",
       "        vertical-align: middle;\n",
       "    }\n",
       "\n",
       "    .dataframe tbody tr th {\n",
       "        vertical-align: top;\n",
       "    }\n",
       "\n",
       "    .dataframe thead th {\n",
       "        text-align: right;\n",
       "    }\n",
       "</style>\n",
       "<table border=\"1\" class=\"dataframe\">\n",
       "  <thead>\n",
       "    <tr style=\"text-align: right;\">\n",
       "      <th></th>\n",
       "      <th>GOOG</th>\n",
       "    </tr>\n",
       "    <tr>\n",
       "      <th>formatted_date</th>\n",
       "      <th></th>\n",
       "    </tr>\n",
       "  </thead>\n",
       "  <tbody>\n",
       "    <tr>\n",
       "      <th>2016-01-01</th>\n",
       "      <td>742.950012</td>\n",
       "    </tr>\n",
       "    <tr>\n",
       "      <th>2016-02-01</th>\n",
       "      <td>697.770020</td>\n",
       "    </tr>\n",
       "    <tr>\n",
       "      <th>2016-03-01</th>\n",
       "      <td>744.950012</td>\n",
       "    </tr>\n",
       "    <tr>\n",
       "      <th>2016-04-01</th>\n",
       "      <td>693.010010</td>\n",
       "    </tr>\n",
       "    <tr>\n",
       "      <th>2016-05-01</th>\n",
       "      <td>735.719971</td>\n",
       "    </tr>\n",
       "    <tr>\n",
       "      <th>...</th>\n",
       "      <td>...</td>\n",
       "    </tr>\n",
       "    <tr>\n",
       "      <th>2021-07-01</th>\n",
       "      <td>2704.419922</td>\n",
       "    </tr>\n",
       "    <tr>\n",
       "      <th>2021-08-01</th>\n",
       "      <td>2909.239990</td>\n",
       "    </tr>\n",
       "    <tr>\n",
       "      <th>2021-09-01</th>\n",
       "      <td>2665.310059</td>\n",
       "    </tr>\n",
       "    <tr>\n",
       "      <th>2021-10-01</th>\n",
       "      <td>2965.409912</td>\n",
       "    </tr>\n",
       "    <tr>\n",
       "      <th>2021-11-01</th>\n",
       "      <td>2849.040039</td>\n",
       "    </tr>\n",
       "  </tbody>\n",
       "</table>\n",
       "<p>71 rows × 1 columns</p>\n",
       "</div>"
      ],
      "text/plain": [
       "                       GOOG\n",
       "formatted_date             \n",
       "2016-01-01       742.950012\n",
       "2016-02-01       697.770020\n",
       "2016-03-01       744.950012\n",
       "2016-04-01       693.010010\n",
       "2016-05-01       735.719971\n",
       "...                     ...\n",
       "2021-07-01      2704.419922\n",
       "2021-08-01      2909.239990\n",
       "2021-09-01      2665.310059\n",
       "2021-10-01      2965.409912\n",
       "2021-11-01      2849.040039\n",
       "\n",
       "[71 rows x 1 columns]"
      ]
     },
     "execution_count": 10,
     "metadata": {},
     "output_type": "execute_result"
    }
   ],
   "source": [
    "indice_col=list(df.columns=='GOOG')\n",
    "df_goog=df.loc[:,indice_col]\n",
    "df_goog # Hemos terminado"
   ]
  },
  {
   "cell_type": "code",
   "execution_count": 20,
   "metadata": {},
   "outputs": [
    {
     "data": {
      "text/plain": [
       "['AMZN']"
      ]
     },
     "execution_count": 20,
     "metadata": {},
     "output_type": "execute_result"
    }
   ],
   "source": [
    "columnas=list(df.columns)\n",
    "\n",
    "amazon= [x for x in columnas if x =='AMZN']\n",
    "amazon"
   ]
  },
  {
   "cell_type": "code",
   "execution_count": 21,
   "metadata": {},
   "outputs": [
    {
     "data": {
      "text/html": [
       "<div>\n",
       "<style scoped>\n",
       "    .dataframe tbody tr th:only-of-type {\n",
       "        vertical-align: middle;\n",
       "    }\n",
       "\n",
       "    .dataframe tbody tr th {\n",
       "        vertical-align: top;\n",
       "    }\n",
       "\n",
       "    .dataframe thead th {\n",
       "        text-align: right;\n",
       "    }\n",
       "</style>\n",
       "<table border=\"1\" class=\"dataframe\">\n",
       "  <thead>\n",
       "    <tr style=\"text-align: right;\">\n",
       "      <th></th>\n",
       "      <th>AMZN</th>\n",
       "    </tr>\n",
       "    <tr>\n",
       "      <th>formatted_date</th>\n",
       "      <th></th>\n",
       "    </tr>\n",
       "  </thead>\n",
       "  <tbody>\n",
       "    <tr>\n",
       "      <th>2016-01-01</th>\n",
       "      <td>587.000000</td>\n",
       "    </tr>\n",
       "    <tr>\n",
       "      <th>2016-02-01</th>\n",
       "      <td>552.520020</td>\n",
       "    </tr>\n",
       "    <tr>\n",
       "      <th>2016-03-01</th>\n",
       "      <td>593.640015</td>\n",
       "    </tr>\n",
       "    <tr>\n",
       "      <th>2016-04-01</th>\n",
       "      <td>659.590027</td>\n",
       "    </tr>\n",
       "    <tr>\n",
       "      <th>2016-05-01</th>\n",
       "      <td>722.789978</td>\n",
       "    </tr>\n",
       "    <tr>\n",
       "      <th>...</th>\n",
       "      <td>...</td>\n",
       "    </tr>\n",
       "    <tr>\n",
       "      <th>2021-07-01</th>\n",
       "      <td>3327.590088</td>\n",
       "    </tr>\n",
       "    <tr>\n",
       "      <th>2021-08-01</th>\n",
       "      <td>3470.790039</td>\n",
       "    </tr>\n",
       "    <tr>\n",
       "      <th>2021-09-01</th>\n",
       "      <td>3285.040039</td>\n",
       "    </tr>\n",
       "    <tr>\n",
       "      <th>2021-10-01</th>\n",
       "      <td>3372.429932</td>\n",
       "    </tr>\n",
       "    <tr>\n",
       "      <th>2021-11-01</th>\n",
       "      <td>3507.070068</td>\n",
       "    </tr>\n",
       "  </tbody>\n",
       "</table>\n",
       "<p>71 rows × 1 columns</p>\n",
       "</div>"
      ],
      "text/plain": [
       "                       AMZN\n",
       "formatted_date             \n",
       "2016-01-01       587.000000\n",
       "2016-02-01       552.520020\n",
       "2016-03-01       593.640015\n",
       "2016-04-01       659.590027\n",
       "2016-05-01       722.789978\n",
       "...                     ...\n",
       "2021-07-01      3327.590088\n",
       "2021-08-01      3470.790039\n",
       "2021-09-01      3285.040039\n",
       "2021-10-01      3372.429932\n",
       "2021-11-01      3507.070068\n",
       "\n",
       "[71 rows x 1 columns]"
      ]
     },
     "execution_count": 21,
     "metadata": {},
     "output_type": "execute_result"
    }
   ],
   "source": [
    "indice_col=list(df.columns=='AMZN')\n",
    "df_amazon=df.loc[:,indice_col]\n",
    "df_amazon # Hemos terminado"
   ]
  },
  {
   "cell_type": "markdown",
   "metadata": {
    "id": "PL8pbOGgFgZn"
   },
   "source": [
    "# Grafico interactivo\n",
    "\n"
   ]
  },
  {
   "cell_type": "code",
   "execution_count": 11,
   "metadata": {
    "colab": {
     "base_uri": "https://localhost:8080/",
     "height": 424
    },
    "executionInfo": {
     "elapsed": 11,
     "status": "ok",
     "timestamp": 1660683565202,
     "user": {
      "displayName": "Oswaldo Villa Pérez",
      "userId": "18212702333962823769"
     },
     "user_tz": 300
    },
    "id": "nSGh5VWcWVMh",
    "outputId": "0995b397-488d-473b-d72c-2e8b96e7d099"
   },
   "outputs": [
    {
     "data": {
      "text/html": [
       "<div>\n",
       "<style scoped>\n",
       "    .dataframe tbody tr th:only-of-type {\n",
       "        vertical-align: middle;\n",
       "    }\n",
       "\n",
       "    .dataframe tbody tr th {\n",
       "        vertical-align: top;\n",
       "    }\n",
       "\n",
       "    .dataframe thead th {\n",
       "        text-align: right;\n",
       "    }\n",
       "</style>\n",
       "<table border=\"1\" class=\"dataframe\">\n",
       "  <thead>\n",
       "    <tr style=\"text-align: right;\">\n",
       "      <th></th>\n",
       "      <th>GOOG</th>\n",
       "      <th>Fecha</th>\n",
       "    </tr>\n",
       "  </thead>\n",
       "  <tbody>\n",
       "    <tr>\n",
       "      <th>0</th>\n",
       "      <td>742.950012</td>\n",
       "      <td>2016-01-01</td>\n",
       "    </tr>\n",
       "    <tr>\n",
       "      <th>1</th>\n",
       "      <td>697.770020</td>\n",
       "      <td>2016-02-01</td>\n",
       "    </tr>\n",
       "    <tr>\n",
       "      <th>2</th>\n",
       "      <td>744.950012</td>\n",
       "      <td>2016-03-01</td>\n",
       "    </tr>\n",
       "    <tr>\n",
       "      <th>3</th>\n",
       "      <td>693.010010</td>\n",
       "      <td>2016-04-01</td>\n",
       "    </tr>\n",
       "    <tr>\n",
       "      <th>4</th>\n",
       "      <td>735.719971</td>\n",
       "      <td>2016-05-01</td>\n",
       "    </tr>\n",
       "    <tr>\n",
       "      <th>...</th>\n",
       "      <td>...</td>\n",
       "      <td>...</td>\n",
       "    </tr>\n",
       "    <tr>\n",
       "      <th>66</th>\n",
       "      <td>2704.419922</td>\n",
       "      <td>2021-07-01</td>\n",
       "    </tr>\n",
       "    <tr>\n",
       "      <th>67</th>\n",
       "      <td>2909.239990</td>\n",
       "      <td>2021-08-01</td>\n",
       "    </tr>\n",
       "    <tr>\n",
       "      <th>68</th>\n",
       "      <td>2665.310059</td>\n",
       "      <td>2021-09-01</td>\n",
       "    </tr>\n",
       "    <tr>\n",
       "      <th>69</th>\n",
       "      <td>2965.409912</td>\n",
       "      <td>2021-10-01</td>\n",
       "    </tr>\n",
       "    <tr>\n",
       "      <th>70</th>\n",
       "      <td>2849.040039</td>\n",
       "      <td>2021-11-01</td>\n",
       "    </tr>\n",
       "  </tbody>\n",
       "</table>\n",
       "<p>71 rows × 2 columns</p>\n",
       "</div>"
      ],
      "text/plain": [
       "           GOOG      Fecha\n",
       "0    742.950012 2016-01-01\n",
       "1    697.770020 2016-02-01\n",
       "2    744.950012 2016-03-01\n",
       "3    693.010010 2016-04-01\n",
       "4    735.719971 2016-05-01\n",
       "..          ...        ...\n",
       "66  2704.419922 2021-07-01\n",
       "67  2909.239990 2021-08-01\n",
       "68  2665.310059 2021-09-01\n",
       "69  2965.409912 2021-10-01\n",
       "70  2849.040039 2021-11-01\n",
       "\n",
       "[71 rows x 2 columns]"
      ]
     },
     "execution_count": 11,
     "metadata": {},
     "output_type": "execute_result"
    }
   ],
   "source": [
    "df_n= df_goog.copy()\n",
    "df_n['Fecha']= df_n.index \n",
    "df_n= df_n.reset_index(drop=True)\n",
    "df_n['Fecha']=pd.to_datetime(df_n['Fecha'])\n",
    "df_n"
   ]
  },
  {
   "cell_type": "code",
   "execution_count": 22,
   "metadata": {},
   "outputs": [
    {
     "data": {
      "text/html": [
       "<div>\n",
       "<style scoped>\n",
       "    .dataframe tbody tr th:only-of-type {\n",
       "        vertical-align: middle;\n",
       "    }\n",
       "\n",
       "    .dataframe tbody tr th {\n",
       "        vertical-align: top;\n",
       "    }\n",
       "\n",
       "    .dataframe thead th {\n",
       "        text-align: right;\n",
       "    }\n",
       "</style>\n",
       "<table border=\"1\" class=\"dataframe\">\n",
       "  <thead>\n",
       "    <tr style=\"text-align: right;\">\n",
       "      <th></th>\n",
       "      <th>AMZN</th>\n",
       "      <th>Fecha</th>\n",
       "    </tr>\n",
       "  </thead>\n",
       "  <tbody>\n",
       "    <tr>\n",
       "      <th>0</th>\n",
       "      <td>587.000000</td>\n",
       "      <td>2016-01-01</td>\n",
       "    </tr>\n",
       "    <tr>\n",
       "      <th>1</th>\n",
       "      <td>552.520020</td>\n",
       "      <td>2016-02-01</td>\n",
       "    </tr>\n",
       "    <tr>\n",
       "      <th>2</th>\n",
       "      <td>593.640015</td>\n",
       "      <td>2016-03-01</td>\n",
       "    </tr>\n",
       "    <tr>\n",
       "      <th>3</th>\n",
       "      <td>659.590027</td>\n",
       "      <td>2016-04-01</td>\n",
       "    </tr>\n",
       "    <tr>\n",
       "      <th>4</th>\n",
       "      <td>722.789978</td>\n",
       "      <td>2016-05-01</td>\n",
       "    </tr>\n",
       "    <tr>\n",
       "      <th>...</th>\n",
       "      <td>...</td>\n",
       "      <td>...</td>\n",
       "    </tr>\n",
       "    <tr>\n",
       "      <th>66</th>\n",
       "      <td>3327.590088</td>\n",
       "      <td>2021-07-01</td>\n",
       "    </tr>\n",
       "    <tr>\n",
       "      <th>67</th>\n",
       "      <td>3470.790039</td>\n",
       "      <td>2021-08-01</td>\n",
       "    </tr>\n",
       "    <tr>\n",
       "      <th>68</th>\n",
       "      <td>3285.040039</td>\n",
       "      <td>2021-09-01</td>\n",
       "    </tr>\n",
       "    <tr>\n",
       "      <th>69</th>\n",
       "      <td>3372.429932</td>\n",
       "      <td>2021-10-01</td>\n",
       "    </tr>\n",
       "    <tr>\n",
       "      <th>70</th>\n",
       "      <td>3507.070068</td>\n",
       "      <td>2021-11-01</td>\n",
       "    </tr>\n",
       "  </tbody>\n",
       "</table>\n",
       "<p>71 rows × 2 columns</p>\n",
       "</div>"
      ],
      "text/plain": [
       "           AMZN      Fecha\n",
       "0    587.000000 2016-01-01\n",
       "1    552.520020 2016-02-01\n",
       "2    593.640015 2016-03-01\n",
       "3    659.590027 2016-04-01\n",
       "4    722.789978 2016-05-01\n",
       "..          ...        ...\n",
       "66  3327.590088 2021-07-01\n",
       "67  3470.790039 2021-08-01\n",
       "68  3285.040039 2021-09-01\n",
       "69  3372.429932 2021-10-01\n",
       "70  3507.070068 2021-11-01\n",
       "\n",
       "[71 rows x 2 columns]"
      ]
     },
     "execution_count": 22,
     "metadata": {},
     "output_type": "execute_result"
    }
   ],
   "source": [
    "df_n= df_amazon.copy()\n",
    "df_n['Fecha']= df_n.index \n",
    "df_n= df_n.reset_index(drop=True)\n",
    "df_n['Fecha']=pd.to_datetime(df_n['Fecha'])\n",
    "df_n"
   ]
  },
  {
   "cell_type": "code",
   "execution_count": 12,
   "metadata": {
    "colab": {
     "base_uri": "https://localhost:8080/",
     "height": 542
    },
    "executionInfo": {
     "elapsed": 3970,
     "status": "ok",
     "timestamp": 1660683569163,
     "user": {
      "displayName": "Oswaldo Villa Pérez",
      "userId": "18212702333962823769"
     },
     "user_tz": 300
    },
    "id": "tcyOiOxrEMJn",
    "outputId": "823b7e43-b582-49ff-b51e-86b33a76d100"
   },
   "outputs": [
    {
     "data": {
      "application/vnd.plotly.v1+json": {
       "config": {
        "plotlyServerURL": "https://plot.ly"
       },
       "data": [
        {
         "hovertemplate": "Fecha_dias=%{x}<br>GOOG=%{y}<extra></extra>",
         "legendgroup": "",
         "line": {
          "color": "#636efa",
          "dash": "solid"
         },
         "marker": {
          "symbol": "circle"
         },
         "mode": "lines",
         "name": "",
         "orientation": "v",
         "showlegend": false,
         "type": "scatter",
         "x": [
          "2016-01-01T00:00:00",
          "2016-02-01T00:00:00",
          "2016-03-01T00:00:00",
          "2016-04-01T00:00:00",
          "2016-05-01T00:00:00",
          "2016-06-01T00:00:00",
          "2016-07-01T00:00:00",
          "2016-08-01T00:00:00",
          "2016-09-01T00:00:00",
          "2016-10-01T00:00:00",
          "2016-11-01T00:00:00",
          "2016-12-01T00:00:00",
          "2017-01-01T00:00:00",
          "2017-02-01T00:00:00",
          "2017-03-01T00:00:00",
          "2017-04-01T00:00:00",
          "2017-05-01T00:00:00",
          "2017-06-01T00:00:00",
          "2017-07-01T00:00:00",
          "2017-08-01T00:00:00",
          "2017-09-01T00:00:00",
          "2017-10-01T00:00:00",
          "2017-11-01T00:00:00",
          "2017-12-01T00:00:00",
          "2018-01-01T00:00:00",
          "2018-02-01T00:00:00",
          "2018-03-01T00:00:00",
          "2018-04-01T00:00:00",
          "2018-05-01T00:00:00",
          "2018-06-01T00:00:00",
          "2018-07-01T00:00:00",
          "2018-08-01T00:00:00",
          "2018-09-01T00:00:00",
          "2018-10-01T00:00:00",
          "2018-11-01T00:00:00",
          "2018-12-01T00:00:00",
          "2019-01-01T00:00:00",
          "2019-02-01T00:00:00",
          "2019-03-01T00:00:00",
          "2019-04-01T00:00:00",
          "2019-05-01T00:00:00",
          "2019-06-01T00:00:00",
          "2019-07-01T00:00:00",
          "2019-08-01T00:00:00",
          "2019-09-01T00:00:00",
          "2019-10-01T00:00:00",
          "2019-11-01T00:00:00",
          "2019-12-01T00:00:00",
          "2020-01-01T00:00:00",
          "2020-02-01T00:00:00",
          "2020-03-01T00:00:00",
          "2020-04-01T00:00:00",
          "2020-05-01T00:00:00",
          "2020-06-01T00:00:00",
          "2020-07-01T00:00:00",
          "2020-08-01T00:00:00",
          "2020-09-01T00:00:00",
          "2020-10-01T00:00:00",
          "2020-11-01T00:00:00",
          "2020-12-01T00:00:00",
          "2021-01-01T00:00:00",
          "2021-02-01T00:00:00",
          "2021-03-01T00:00:00",
          "2021-04-01T00:00:00",
          "2021-05-01T00:00:00",
          "2021-06-01T00:00:00",
          "2021-07-01T00:00:00",
          "2021-08-01T00:00:00",
          "2021-09-01T00:00:00",
          "2021-10-01T00:00:00",
          "2021-11-01T00:00:00"
         ],
         "xaxis": "x",
         "y": [
          742.9500122070312,
          697.77001953125,
          744.9500122070312,
          693.010009765625,
          735.719970703125,
          692.0999755859375,
          768.7899780273438,
          767.0499877929688,
          777.2899780273438,
          784.5399780273438,
          758.0399780273438,
          771.8200073242188,
          796.7899780273438,
          823.2100219726562,
          829.5599975585938,
          905.9600219726562,
          964.8599853515624,
          908.72998046875,
          930.5,
          939.3300170898438,
          959.1099853515624,
          1016.6400146484376,
          1021.4099731445312,
          1046.4000244140625,
          1169.93994140625,
          1104.72998046875,
          1031.7900390625,
          1017.3300170898438,
          1084.989990234375,
          1115.6500244140625,
          1217.260009765625,
          1218.18994140625,
          1193.469970703125,
          1076.77001953125,
          1094.4300537109375,
          1035.6099853515625,
          1116.3699951171875,
          1119.9200439453125,
          1173.31005859375,
          1188.47998046875,
          1103.6300048828125,
          1080.9100341796875,
          1216.6800537109375,
          1188.0999755859375,
          1219,
          1260.1099853515625,
          1304.9599609375,
          1337.02001953125,
          1434.22998046875,
          1339.3299560546875,
          1162.81005859375,
          1348.6600341796875,
          1428.9200439453125,
          1413.6099853515625,
          1482.9599609375,
          1634.1800537109375,
          1469.5999755859375,
          1621.010009765625,
          1760.739990234375,
          1751.8800048828125,
          1835.739990234375,
          2036.8599853515625,
          2068.6298828125,
          2410.1201171875,
          2411.56005859375,
          2506.320068359375,
          2704.419921875,
          2909.239990234375,
          2665.31005859375,
          2965.409912109375,
          2849.0400390625
         ],
         "yaxis": "y"
        }
       ],
       "layout": {
        "legend": {
         "tracegroupgap": 0
        },
        "paper_bgcolor": "#FFFFFF",
        "plot_bgcolor": "#FFFFFF",
        "template": {
         "data": {
          "bar": [
           {
            "error_x": {
             "color": "#2a3f5f"
            },
            "error_y": {
             "color": "#2a3f5f"
            },
            "marker": {
             "line": {
              "color": "#E5ECF6",
              "width": 0.5
             },
             "pattern": {
              "fillmode": "overlay",
              "size": 10,
              "solidity": 0.2
             }
            },
            "type": "bar"
           }
          ],
          "barpolar": [
           {
            "marker": {
             "line": {
              "color": "#E5ECF6",
              "width": 0.5
             },
             "pattern": {
              "fillmode": "overlay",
              "size": 10,
              "solidity": 0.2
             }
            },
            "type": "barpolar"
           }
          ],
          "carpet": [
           {
            "aaxis": {
             "endlinecolor": "#2a3f5f",
             "gridcolor": "white",
             "linecolor": "white",
             "minorgridcolor": "white",
             "startlinecolor": "#2a3f5f"
            },
            "baxis": {
             "endlinecolor": "#2a3f5f",
             "gridcolor": "white",
             "linecolor": "white",
             "minorgridcolor": "white",
             "startlinecolor": "#2a3f5f"
            },
            "type": "carpet"
           }
          ],
          "choropleth": [
           {
            "colorbar": {
             "outlinewidth": 0,
             "ticks": ""
            },
            "type": "choropleth"
           }
          ],
          "contour": [
           {
            "colorbar": {
             "outlinewidth": 0,
             "ticks": ""
            },
            "colorscale": [
             [
              0,
              "#0d0887"
             ],
             [
              0.1111111111111111,
              "#46039f"
             ],
             [
              0.2222222222222222,
              "#7201a8"
             ],
             [
              0.3333333333333333,
              "#9c179e"
             ],
             [
              0.4444444444444444,
              "#bd3786"
             ],
             [
              0.5555555555555556,
              "#d8576b"
             ],
             [
              0.6666666666666666,
              "#ed7953"
             ],
             [
              0.7777777777777778,
              "#fb9f3a"
             ],
             [
              0.8888888888888888,
              "#fdca26"
             ],
             [
              1,
              "#f0f921"
             ]
            ],
            "type": "contour"
           }
          ],
          "contourcarpet": [
           {
            "colorbar": {
             "outlinewidth": 0,
             "ticks": ""
            },
            "type": "contourcarpet"
           }
          ],
          "heatmap": [
           {
            "colorbar": {
             "outlinewidth": 0,
             "ticks": ""
            },
            "colorscale": [
             [
              0,
              "#0d0887"
             ],
             [
              0.1111111111111111,
              "#46039f"
             ],
             [
              0.2222222222222222,
              "#7201a8"
             ],
             [
              0.3333333333333333,
              "#9c179e"
             ],
             [
              0.4444444444444444,
              "#bd3786"
             ],
             [
              0.5555555555555556,
              "#d8576b"
             ],
             [
              0.6666666666666666,
              "#ed7953"
             ],
             [
              0.7777777777777778,
              "#fb9f3a"
             ],
             [
              0.8888888888888888,
              "#fdca26"
             ],
             [
              1,
              "#f0f921"
             ]
            ],
            "type": "heatmap"
           }
          ],
          "heatmapgl": [
           {
            "colorbar": {
             "outlinewidth": 0,
             "ticks": ""
            },
            "colorscale": [
             [
              0,
              "#0d0887"
             ],
             [
              0.1111111111111111,
              "#46039f"
             ],
             [
              0.2222222222222222,
              "#7201a8"
             ],
             [
              0.3333333333333333,
              "#9c179e"
             ],
             [
              0.4444444444444444,
              "#bd3786"
             ],
             [
              0.5555555555555556,
              "#d8576b"
             ],
             [
              0.6666666666666666,
              "#ed7953"
             ],
             [
              0.7777777777777778,
              "#fb9f3a"
             ],
             [
              0.8888888888888888,
              "#fdca26"
             ],
             [
              1,
              "#f0f921"
             ]
            ],
            "type": "heatmapgl"
           }
          ],
          "histogram": [
           {
            "marker": {
             "pattern": {
              "fillmode": "overlay",
              "size": 10,
              "solidity": 0.2
             }
            },
            "type": "histogram"
           }
          ],
          "histogram2d": [
           {
            "colorbar": {
             "outlinewidth": 0,
             "ticks": ""
            },
            "colorscale": [
             [
              0,
              "#0d0887"
             ],
             [
              0.1111111111111111,
              "#46039f"
             ],
             [
              0.2222222222222222,
              "#7201a8"
             ],
             [
              0.3333333333333333,
              "#9c179e"
             ],
             [
              0.4444444444444444,
              "#bd3786"
             ],
             [
              0.5555555555555556,
              "#d8576b"
             ],
             [
              0.6666666666666666,
              "#ed7953"
             ],
             [
              0.7777777777777778,
              "#fb9f3a"
             ],
             [
              0.8888888888888888,
              "#fdca26"
             ],
             [
              1,
              "#f0f921"
             ]
            ],
            "type": "histogram2d"
           }
          ],
          "histogram2dcontour": [
           {
            "colorbar": {
             "outlinewidth": 0,
             "ticks": ""
            },
            "colorscale": [
             [
              0,
              "#0d0887"
             ],
             [
              0.1111111111111111,
              "#46039f"
             ],
             [
              0.2222222222222222,
              "#7201a8"
             ],
             [
              0.3333333333333333,
              "#9c179e"
             ],
             [
              0.4444444444444444,
              "#bd3786"
             ],
             [
              0.5555555555555556,
              "#d8576b"
             ],
             [
              0.6666666666666666,
              "#ed7953"
             ],
             [
              0.7777777777777778,
              "#fb9f3a"
             ],
             [
              0.8888888888888888,
              "#fdca26"
             ],
             [
              1,
              "#f0f921"
             ]
            ],
            "type": "histogram2dcontour"
           }
          ],
          "mesh3d": [
           {
            "colorbar": {
             "outlinewidth": 0,
             "ticks": ""
            },
            "type": "mesh3d"
           }
          ],
          "parcoords": [
           {
            "line": {
             "colorbar": {
              "outlinewidth": 0,
              "ticks": ""
             }
            },
            "type": "parcoords"
           }
          ],
          "pie": [
           {
            "automargin": true,
            "type": "pie"
           }
          ],
          "scatter": [
           {
            "fillpattern": {
             "fillmode": "overlay",
             "size": 10,
             "solidity": 0.2
            },
            "type": "scatter"
           }
          ],
          "scatter3d": [
           {
            "line": {
             "colorbar": {
              "outlinewidth": 0,
              "ticks": ""
             }
            },
            "marker": {
             "colorbar": {
              "outlinewidth": 0,
              "ticks": ""
             }
            },
            "type": "scatter3d"
           }
          ],
          "scattercarpet": [
           {
            "marker": {
             "colorbar": {
              "outlinewidth": 0,
              "ticks": ""
             }
            },
            "type": "scattercarpet"
           }
          ],
          "scattergeo": [
           {
            "marker": {
             "colorbar": {
              "outlinewidth": 0,
              "ticks": ""
             }
            },
            "type": "scattergeo"
           }
          ],
          "scattergl": [
           {
            "marker": {
             "colorbar": {
              "outlinewidth": 0,
              "ticks": ""
             }
            },
            "type": "scattergl"
           }
          ],
          "scattermapbox": [
           {
            "marker": {
             "colorbar": {
              "outlinewidth": 0,
              "ticks": ""
             }
            },
            "type": "scattermapbox"
           }
          ],
          "scatterpolar": [
           {
            "marker": {
             "colorbar": {
              "outlinewidth": 0,
              "ticks": ""
             }
            },
            "type": "scatterpolar"
           }
          ],
          "scatterpolargl": [
           {
            "marker": {
             "colorbar": {
              "outlinewidth": 0,
              "ticks": ""
             }
            },
            "type": "scatterpolargl"
           }
          ],
          "scatterternary": [
           {
            "marker": {
             "colorbar": {
              "outlinewidth": 0,
              "ticks": ""
             }
            },
            "type": "scatterternary"
           }
          ],
          "surface": [
           {
            "colorbar": {
             "outlinewidth": 0,
             "ticks": ""
            },
            "colorscale": [
             [
              0,
              "#0d0887"
             ],
             [
              0.1111111111111111,
              "#46039f"
             ],
             [
              0.2222222222222222,
              "#7201a8"
             ],
             [
              0.3333333333333333,
              "#9c179e"
             ],
             [
              0.4444444444444444,
              "#bd3786"
             ],
             [
              0.5555555555555556,
              "#d8576b"
             ],
             [
              0.6666666666666666,
              "#ed7953"
             ],
             [
              0.7777777777777778,
              "#fb9f3a"
             ],
             [
              0.8888888888888888,
              "#fdca26"
             ],
             [
              1,
              "#f0f921"
             ]
            ],
            "type": "surface"
           }
          ],
          "table": [
           {
            "cells": {
             "fill": {
              "color": "#EBF0F8"
             },
             "line": {
              "color": "white"
             }
            },
            "header": {
             "fill": {
              "color": "#C8D4E3"
             },
             "line": {
              "color": "white"
             }
            },
            "type": "table"
           }
          ]
         },
         "layout": {
          "annotationdefaults": {
           "arrowcolor": "#2a3f5f",
           "arrowhead": 0,
           "arrowwidth": 1
          },
          "autotypenumbers": "strict",
          "coloraxis": {
           "colorbar": {
            "outlinewidth": 0,
            "ticks": ""
           }
          },
          "colorscale": {
           "diverging": [
            [
             0,
             "#8e0152"
            ],
            [
             0.1,
             "#c51b7d"
            ],
            [
             0.2,
             "#de77ae"
            ],
            [
             0.3,
             "#f1b6da"
            ],
            [
             0.4,
             "#fde0ef"
            ],
            [
             0.5,
             "#f7f7f7"
            ],
            [
             0.6,
             "#e6f5d0"
            ],
            [
             0.7,
             "#b8e186"
            ],
            [
             0.8,
             "#7fbc41"
            ],
            [
             0.9,
             "#4d9221"
            ],
            [
             1,
             "#276419"
            ]
           ],
           "sequential": [
            [
             0,
             "#0d0887"
            ],
            [
             0.1111111111111111,
             "#46039f"
            ],
            [
             0.2222222222222222,
             "#7201a8"
            ],
            [
             0.3333333333333333,
             "#9c179e"
            ],
            [
             0.4444444444444444,
             "#bd3786"
            ],
            [
             0.5555555555555556,
             "#d8576b"
            ],
            [
             0.6666666666666666,
             "#ed7953"
            ],
            [
             0.7777777777777778,
             "#fb9f3a"
            ],
            [
             0.8888888888888888,
             "#fdca26"
            ],
            [
             1,
             "#f0f921"
            ]
           ],
           "sequentialminus": [
            [
             0,
             "#0d0887"
            ],
            [
             0.1111111111111111,
             "#46039f"
            ],
            [
             0.2222222222222222,
             "#7201a8"
            ],
            [
             0.3333333333333333,
             "#9c179e"
            ],
            [
             0.4444444444444444,
             "#bd3786"
            ],
            [
             0.5555555555555556,
             "#d8576b"
            ],
            [
             0.6666666666666666,
             "#ed7953"
            ],
            [
             0.7777777777777778,
             "#fb9f3a"
            ],
            [
             0.8888888888888888,
             "#fdca26"
            ],
            [
             1,
             "#f0f921"
            ]
           ]
          },
          "colorway": [
           "#636efa",
           "#EF553B",
           "#00cc96",
           "#ab63fa",
           "#FFA15A",
           "#19d3f3",
           "#FF6692",
           "#B6E880",
           "#FF97FF",
           "#FECB52"
          ],
          "font": {
           "color": "#2a3f5f"
          },
          "geo": {
           "bgcolor": "white",
           "lakecolor": "white",
           "landcolor": "#E5ECF6",
           "showlakes": true,
           "showland": true,
           "subunitcolor": "white"
          },
          "hoverlabel": {
           "align": "left"
          },
          "hovermode": "closest",
          "mapbox": {
           "style": "light"
          },
          "paper_bgcolor": "white",
          "plot_bgcolor": "#E5ECF6",
          "polar": {
           "angularaxis": {
            "gridcolor": "white",
            "linecolor": "white",
            "ticks": ""
           },
           "bgcolor": "#E5ECF6",
           "radialaxis": {
            "gridcolor": "white",
            "linecolor": "white",
            "ticks": ""
           }
          },
          "scene": {
           "xaxis": {
            "backgroundcolor": "#E5ECF6",
            "gridcolor": "white",
            "gridwidth": 2,
            "linecolor": "white",
            "showbackground": true,
            "ticks": "",
            "zerolinecolor": "white"
           },
           "yaxis": {
            "backgroundcolor": "#E5ECF6",
            "gridcolor": "white",
            "gridwidth": 2,
            "linecolor": "white",
            "showbackground": true,
            "ticks": "",
            "zerolinecolor": "white"
           },
           "zaxis": {
            "backgroundcolor": "#E5ECF6",
            "gridcolor": "white",
            "gridwidth": 2,
            "linecolor": "white",
            "showbackground": true,
            "ticks": "",
            "zerolinecolor": "white"
           }
          },
          "shapedefaults": {
           "line": {
            "color": "#2a3f5f"
           }
          },
          "ternary": {
           "aaxis": {
            "gridcolor": "white",
            "linecolor": "white",
            "ticks": ""
           },
           "baxis": {
            "gridcolor": "white",
            "linecolor": "white",
            "ticks": ""
           },
           "bgcolor": "#E5ECF6",
           "caxis": {
            "gridcolor": "white",
            "linecolor": "white",
            "ticks": ""
           }
          },
          "title": {
           "x": 0.05
          },
          "xaxis": {
           "automargin": true,
           "gridcolor": "white",
           "linecolor": "white",
           "ticks": "",
           "title": {
            "standoff": 15
           },
           "zerolinecolor": "white",
           "zerolinewidth": 2
          },
          "yaxis": {
           "automargin": true,
           "gridcolor": "white",
           "linecolor": "white",
           "ticks": "",
           "title": {
            "standoff": 15
           },
           "zerolinecolor": "white",
           "zerolinewidth": 2
          }
         }
        },
        "title": {
         "text": "Comportamiento GOOGLE"
        },
        "xaxis": {
         "anchor": "y",
         "domain": [
          0,
          1
         ],
         "title": {
          "text": "Fecha_dias"
         }
        },
        "yaxis": {
         "anchor": "x",
         "domain": [
          0,
          1
         ],
         "title": {
          "text": "GOOG"
         }
        }
       }
      }
     },
     "metadata": {},
     "output_type": "display_data"
    }
   ],
   "source": [
    "import plotly.express as px\n",
    "\n",
    "\n",
    "fig=px.line(data_frame=df_n,x='Fecha',y='GOOG',title='Comportamiento GOOGLE',\\\n",
    "             labels={\n",
    "                     \"Fecha\": \"Fecha_dias\",\n",
    "                     \"value\": \"Precio (USD)\"\n",
    "                 })\n",
    "fig.update_layout(paper_bgcolor=\"#FFFFFF\",plot_bgcolor='#FFFFFF',)\n",
    "\n",
    "fig.show()"
   ]
  },
  {
   "cell_type": "code",
   "execution_count": 23,
   "metadata": {},
   "outputs": [
    {
     "data": {
      "application/vnd.plotly.v1+json": {
       "config": {
        "plotlyServerURL": "https://plot.ly"
       },
       "data": [
        {
         "hovertemplate": "Fecha_dias=%{x}<br>AMZN=%{y}<extra></extra>",
         "legendgroup": "",
         "line": {
          "color": "#636efa",
          "dash": "solid"
         },
         "marker": {
          "symbol": "circle"
         },
         "mode": "lines",
         "name": "",
         "orientation": "v",
         "showlegend": false,
         "type": "scatter",
         "x": [
          "2016-01-01T00:00:00",
          "2016-02-01T00:00:00",
          "2016-03-01T00:00:00",
          "2016-04-01T00:00:00",
          "2016-05-01T00:00:00",
          "2016-06-01T00:00:00",
          "2016-07-01T00:00:00",
          "2016-08-01T00:00:00",
          "2016-09-01T00:00:00",
          "2016-10-01T00:00:00",
          "2016-11-01T00:00:00",
          "2016-12-01T00:00:00",
          "2017-01-01T00:00:00",
          "2017-02-01T00:00:00",
          "2017-03-01T00:00:00",
          "2017-04-01T00:00:00",
          "2017-05-01T00:00:00",
          "2017-06-01T00:00:00",
          "2017-07-01T00:00:00",
          "2017-08-01T00:00:00",
          "2017-09-01T00:00:00",
          "2017-10-01T00:00:00",
          "2017-11-01T00:00:00",
          "2017-12-01T00:00:00",
          "2018-01-01T00:00:00",
          "2018-02-01T00:00:00",
          "2018-03-01T00:00:00",
          "2018-04-01T00:00:00",
          "2018-05-01T00:00:00",
          "2018-06-01T00:00:00",
          "2018-07-01T00:00:00",
          "2018-08-01T00:00:00",
          "2018-09-01T00:00:00",
          "2018-10-01T00:00:00",
          "2018-11-01T00:00:00",
          "2018-12-01T00:00:00",
          "2019-01-01T00:00:00",
          "2019-02-01T00:00:00",
          "2019-03-01T00:00:00",
          "2019-04-01T00:00:00",
          "2019-05-01T00:00:00",
          "2019-06-01T00:00:00",
          "2019-07-01T00:00:00",
          "2019-08-01T00:00:00",
          "2019-09-01T00:00:00",
          "2019-10-01T00:00:00",
          "2019-11-01T00:00:00",
          "2019-12-01T00:00:00",
          "2020-01-01T00:00:00",
          "2020-02-01T00:00:00",
          "2020-03-01T00:00:00",
          "2020-04-01T00:00:00",
          "2020-05-01T00:00:00",
          "2020-06-01T00:00:00",
          "2020-07-01T00:00:00",
          "2020-08-01T00:00:00",
          "2020-09-01T00:00:00",
          "2020-10-01T00:00:00",
          "2020-11-01T00:00:00",
          "2020-12-01T00:00:00",
          "2021-01-01T00:00:00",
          "2021-02-01T00:00:00",
          "2021-03-01T00:00:00",
          "2021-04-01T00:00:00",
          "2021-05-01T00:00:00",
          "2021-06-01T00:00:00",
          "2021-07-01T00:00:00",
          "2021-08-01T00:00:00",
          "2021-09-01T00:00:00",
          "2021-10-01T00:00:00",
          "2021-11-01T00:00:00"
         ],
         "xaxis": "x",
         "y": [
          587,
          552.52001953125,
          593.6400146484375,
          659.5900268554688,
          722.7899780273438,
          715.6199951171875,
          758.8099975585938,
          769.1599731445312,
          837.3099975585938,
          789.8200073242188,
          750.5700073242188,
          749.8699951171875,
          823.47998046875,
          845.0399780273438,
          886.5399780273438,
          924.989990234375,
          994.6199951171876,
          968,
          987.780029296875,
          980.5999755859376,
          961.3499755859376,
          1105.280029296875,
          1176.75,
          1169.469970703125,
          1450.8900146484375,
          1512.449951171875,
          1447.3399658203125,
          1566.1300048828125,
          1629.6199951171875,
          1699.800048828125,
          1777.43994140625,
          2012.7099609375,
          2003,
          1598.010009765625,
          1690.1700439453125,
          1501.969970703125,
          1718.72998046875,
          1639.8299560546875,
          1780.75,
          1926.52001953125,
          1775.0699462890625,
          1893.6300048828125,
          1866.780029296875,
          1776.2900390625,
          1735.9100341796875,
          1776.6600341796875,
          1800.800048828125,
          1847.8399658203125,
          2008.719970703125,
          1883.75,
          1949.719970703125,
          2474,
          2442.3701171875,
          2758.820068359375,
          3164.679931640625,
          3450.9599609375,
          3148.72998046875,
          3036.14990234375,
          3168.0400390625,
          3256.929931640625,
          3206.199951171875,
          3092.929931640625,
          3094.080078125,
          3467.419921875,
          3223.070068359375,
          3440.159912109375,
          3327.590087890625,
          3470.7900390625,
          3285.0400390625,
          3372.429931640625,
          3507.070068359375
         ],
         "yaxis": "y"
        }
       ],
       "layout": {
        "legend": {
         "tracegroupgap": 0
        },
        "paper_bgcolor": "#FFFFFF",
        "plot_bgcolor": "#FFFFFF",
        "template": {
         "data": {
          "bar": [
           {
            "error_x": {
             "color": "#2a3f5f"
            },
            "error_y": {
             "color": "#2a3f5f"
            },
            "marker": {
             "line": {
              "color": "#E5ECF6",
              "width": 0.5
             },
             "pattern": {
              "fillmode": "overlay",
              "size": 10,
              "solidity": 0.2
             }
            },
            "type": "bar"
           }
          ],
          "barpolar": [
           {
            "marker": {
             "line": {
              "color": "#E5ECF6",
              "width": 0.5
             },
             "pattern": {
              "fillmode": "overlay",
              "size": 10,
              "solidity": 0.2
             }
            },
            "type": "barpolar"
           }
          ],
          "carpet": [
           {
            "aaxis": {
             "endlinecolor": "#2a3f5f",
             "gridcolor": "white",
             "linecolor": "white",
             "minorgridcolor": "white",
             "startlinecolor": "#2a3f5f"
            },
            "baxis": {
             "endlinecolor": "#2a3f5f",
             "gridcolor": "white",
             "linecolor": "white",
             "minorgridcolor": "white",
             "startlinecolor": "#2a3f5f"
            },
            "type": "carpet"
           }
          ],
          "choropleth": [
           {
            "colorbar": {
             "outlinewidth": 0,
             "ticks": ""
            },
            "type": "choropleth"
           }
          ],
          "contour": [
           {
            "colorbar": {
             "outlinewidth": 0,
             "ticks": ""
            },
            "colorscale": [
             [
              0,
              "#0d0887"
             ],
             [
              0.1111111111111111,
              "#46039f"
             ],
             [
              0.2222222222222222,
              "#7201a8"
             ],
             [
              0.3333333333333333,
              "#9c179e"
             ],
             [
              0.4444444444444444,
              "#bd3786"
             ],
             [
              0.5555555555555556,
              "#d8576b"
             ],
             [
              0.6666666666666666,
              "#ed7953"
             ],
             [
              0.7777777777777778,
              "#fb9f3a"
             ],
             [
              0.8888888888888888,
              "#fdca26"
             ],
             [
              1,
              "#f0f921"
             ]
            ],
            "type": "contour"
           }
          ],
          "contourcarpet": [
           {
            "colorbar": {
             "outlinewidth": 0,
             "ticks": ""
            },
            "type": "contourcarpet"
           }
          ],
          "heatmap": [
           {
            "colorbar": {
             "outlinewidth": 0,
             "ticks": ""
            },
            "colorscale": [
             [
              0,
              "#0d0887"
             ],
             [
              0.1111111111111111,
              "#46039f"
             ],
             [
              0.2222222222222222,
              "#7201a8"
             ],
             [
              0.3333333333333333,
              "#9c179e"
             ],
             [
              0.4444444444444444,
              "#bd3786"
             ],
             [
              0.5555555555555556,
              "#d8576b"
             ],
             [
              0.6666666666666666,
              "#ed7953"
             ],
             [
              0.7777777777777778,
              "#fb9f3a"
             ],
             [
              0.8888888888888888,
              "#fdca26"
             ],
             [
              1,
              "#f0f921"
             ]
            ],
            "type": "heatmap"
           }
          ],
          "heatmapgl": [
           {
            "colorbar": {
             "outlinewidth": 0,
             "ticks": ""
            },
            "colorscale": [
             [
              0,
              "#0d0887"
             ],
             [
              0.1111111111111111,
              "#46039f"
             ],
             [
              0.2222222222222222,
              "#7201a8"
             ],
             [
              0.3333333333333333,
              "#9c179e"
             ],
             [
              0.4444444444444444,
              "#bd3786"
             ],
             [
              0.5555555555555556,
              "#d8576b"
             ],
             [
              0.6666666666666666,
              "#ed7953"
             ],
             [
              0.7777777777777778,
              "#fb9f3a"
             ],
             [
              0.8888888888888888,
              "#fdca26"
             ],
             [
              1,
              "#f0f921"
             ]
            ],
            "type": "heatmapgl"
           }
          ],
          "histogram": [
           {
            "marker": {
             "pattern": {
              "fillmode": "overlay",
              "size": 10,
              "solidity": 0.2
             }
            },
            "type": "histogram"
           }
          ],
          "histogram2d": [
           {
            "colorbar": {
             "outlinewidth": 0,
             "ticks": ""
            },
            "colorscale": [
             [
              0,
              "#0d0887"
             ],
             [
              0.1111111111111111,
              "#46039f"
             ],
             [
              0.2222222222222222,
              "#7201a8"
             ],
             [
              0.3333333333333333,
              "#9c179e"
             ],
             [
              0.4444444444444444,
              "#bd3786"
             ],
             [
              0.5555555555555556,
              "#d8576b"
             ],
             [
              0.6666666666666666,
              "#ed7953"
             ],
             [
              0.7777777777777778,
              "#fb9f3a"
             ],
             [
              0.8888888888888888,
              "#fdca26"
             ],
             [
              1,
              "#f0f921"
             ]
            ],
            "type": "histogram2d"
           }
          ],
          "histogram2dcontour": [
           {
            "colorbar": {
             "outlinewidth": 0,
             "ticks": ""
            },
            "colorscale": [
             [
              0,
              "#0d0887"
             ],
             [
              0.1111111111111111,
              "#46039f"
             ],
             [
              0.2222222222222222,
              "#7201a8"
             ],
             [
              0.3333333333333333,
              "#9c179e"
             ],
             [
              0.4444444444444444,
              "#bd3786"
             ],
             [
              0.5555555555555556,
              "#d8576b"
             ],
             [
              0.6666666666666666,
              "#ed7953"
             ],
             [
              0.7777777777777778,
              "#fb9f3a"
             ],
             [
              0.8888888888888888,
              "#fdca26"
             ],
             [
              1,
              "#f0f921"
             ]
            ],
            "type": "histogram2dcontour"
           }
          ],
          "mesh3d": [
           {
            "colorbar": {
             "outlinewidth": 0,
             "ticks": ""
            },
            "type": "mesh3d"
           }
          ],
          "parcoords": [
           {
            "line": {
             "colorbar": {
              "outlinewidth": 0,
              "ticks": ""
             }
            },
            "type": "parcoords"
           }
          ],
          "pie": [
           {
            "automargin": true,
            "type": "pie"
           }
          ],
          "scatter": [
           {
            "fillpattern": {
             "fillmode": "overlay",
             "size": 10,
             "solidity": 0.2
            },
            "type": "scatter"
           }
          ],
          "scatter3d": [
           {
            "line": {
             "colorbar": {
              "outlinewidth": 0,
              "ticks": ""
             }
            },
            "marker": {
             "colorbar": {
              "outlinewidth": 0,
              "ticks": ""
             }
            },
            "type": "scatter3d"
           }
          ],
          "scattercarpet": [
           {
            "marker": {
             "colorbar": {
              "outlinewidth": 0,
              "ticks": ""
             }
            },
            "type": "scattercarpet"
           }
          ],
          "scattergeo": [
           {
            "marker": {
             "colorbar": {
              "outlinewidth": 0,
              "ticks": ""
             }
            },
            "type": "scattergeo"
           }
          ],
          "scattergl": [
           {
            "marker": {
             "colorbar": {
              "outlinewidth": 0,
              "ticks": ""
             }
            },
            "type": "scattergl"
           }
          ],
          "scattermapbox": [
           {
            "marker": {
             "colorbar": {
              "outlinewidth": 0,
              "ticks": ""
             }
            },
            "type": "scattermapbox"
           }
          ],
          "scatterpolar": [
           {
            "marker": {
             "colorbar": {
              "outlinewidth": 0,
              "ticks": ""
             }
            },
            "type": "scatterpolar"
           }
          ],
          "scatterpolargl": [
           {
            "marker": {
             "colorbar": {
              "outlinewidth": 0,
              "ticks": ""
             }
            },
            "type": "scatterpolargl"
           }
          ],
          "scatterternary": [
           {
            "marker": {
             "colorbar": {
              "outlinewidth": 0,
              "ticks": ""
             }
            },
            "type": "scatterternary"
           }
          ],
          "surface": [
           {
            "colorbar": {
             "outlinewidth": 0,
             "ticks": ""
            },
            "colorscale": [
             [
              0,
              "#0d0887"
             ],
             [
              0.1111111111111111,
              "#46039f"
             ],
             [
              0.2222222222222222,
              "#7201a8"
             ],
             [
              0.3333333333333333,
              "#9c179e"
             ],
             [
              0.4444444444444444,
              "#bd3786"
             ],
             [
              0.5555555555555556,
              "#d8576b"
             ],
             [
              0.6666666666666666,
              "#ed7953"
             ],
             [
              0.7777777777777778,
              "#fb9f3a"
             ],
             [
              0.8888888888888888,
              "#fdca26"
             ],
             [
              1,
              "#f0f921"
             ]
            ],
            "type": "surface"
           }
          ],
          "table": [
           {
            "cells": {
             "fill": {
              "color": "#EBF0F8"
             },
             "line": {
              "color": "white"
             }
            },
            "header": {
             "fill": {
              "color": "#C8D4E3"
             },
             "line": {
              "color": "white"
             }
            },
            "type": "table"
           }
          ]
         },
         "layout": {
          "annotationdefaults": {
           "arrowcolor": "#2a3f5f",
           "arrowhead": 0,
           "arrowwidth": 1
          },
          "autotypenumbers": "strict",
          "coloraxis": {
           "colorbar": {
            "outlinewidth": 0,
            "ticks": ""
           }
          },
          "colorscale": {
           "diverging": [
            [
             0,
             "#8e0152"
            ],
            [
             0.1,
             "#c51b7d"
            ],
            [
             0.2,
             "#de77ae"
            ],
            [
             0.3,
             "#f1b6da"
            ],
            [
             0.4,
             "#fde0ef"
            ],
            [
             0.5,
             "#f7f7f7"
            ],
            [
             0.6,
             "#e6f5d0"
            ],
            [
             0.7,
             "#b8e186"
            ],
            [
             0.8,
             "#7fbc41"
            ],
            [
             0.9,
             "#4d9221"
            ],
            [
             1,
             "#276419"
            ]
           ],
           "sequential": [
            [
             0,
             "#0d0887"
            ],
            [
             0.1111111111111111,
             "#46039f"
            ],
            [
             0.2222222222222222,
             "#7201a8"
            ],
            [
             0.3333333333333333,
             "#9c179e"
            ],
            [
             0.4444444444444444,
             "#bd3786"
            ],
            [
             0.5555555555555556,
             "#d8576b"
            ],
            [
             0.6666666666666666,
             "#ed7953"
            ],
            [
             0.7777777777777778,
             "#fb9f3a"
            ],
            [
             0.8888888888888888,
             "#fdca26"
            ],
            [
             1,
             "#f0f921"
            ]
           ],
           "sequentialminus": [
            [
             0,
             "#0d0887"
            ],
            [
             0.1111111111111111,
             "#46039f"
            ],
            [
             0.2222222222222222,
             "#7201a8"
            ],
            [
             0.3333333333333333,
             "#9c179e"
            ],
            [
             0.4444444444444444,
             "#bd3786"
            ],
            [
             0.5555555555555556,
             "#d8576b"
            ],
            [
             0.6666666666666666,
             "#ed7953"
            ],
            [
             0.7777777777777778,
             "#fb9f3a"
            ],
            [
             0.8888888888888888,
             "#fdca26"
            ],
            [
             1,
             "#f0f921"
            ]
           ]
          },
          "colorway": [
           "#636efa",
           "#EF553B",
           "#00cc96",
           "#ab63fa",
           "#FFA15A",
           "#19d3f3",
           "#FF6692",
           "#B6E880",
           "#FF97FF",
           "#FECB52"
          ],
          "font": {
           "color": "#2a3f5f"
          },
          "geo": {
           "bgcolor": "white",
           "lakecolor": "white",
           "landcolor": "#E5ECF6",
           "showlakes": true,
           "showland": true,
           "subunitcolor": "white"
          },
          "hoverlabel": {
           "align": "left"
          },
          "hovermode": "closest",
          "mapbox": {
           "style": "light"
          },
          "paper_bgcolor": "white",
          "plot_bgcolor": "#E5ECF6",
          "polar": {
           "angularaxis": {
            "gridcolor": "white",
            "linecolor": "white",
            "ticks": ""
           },
           "bgcolor": "#E5ECF6",
           "radialaxis": {
            "gridcolor": "white",
            "linecolor": "white",
            "ticks": ""
           }
          },
          "scene": {
           "xaxis": {
            "backgroundcolor": "#E5ECF6",
            "gridcolor": "white",
            "gridwidth": 2,
            "linecolor": "white",
            "showbackground": true,
            "ticks": "",
            "zerolinecolor": "white"
           },
           "yaxis": {
            "backgroundcolor": "#E5ECF6",
            "gridcolor": "white",
            "gridwidth": 2,
            "linecolor": "white",
            "showbackground": true,
            "ticks": "",
            "zerolinecolor": "white"
           },
           "zaxis": {
            "backgroundcolor": "#E5ECF6",
            "gridcolor": "white",
            "gridwidth": 2,
            "linecolor": "white",
            "showbackground": true,
            "ticks": "",
            "zerolinecolor": "white"
           }
          },
          "shapedefaults": {
           "line": {
            "color": "#2a3f5f"
           }
          },
          "ternary": {
           "aaxis": {
            "gridcolor": "white",
            "linecolor": "white",
            "ticks": ""
           },
           "baxis": {
            "gridcolor": "white",
            "linecolor": "white",
            "ticks": ""
           },
           "bgcolor": "#E5ECF6",
           "caxis": {
            "gridcolor": "white",
            "linecolor": "white",
            "ticks": ""
           }
          },
          "title": {
           "x": 0.05
          },
          "xaxis": {
           "automargin": true,
           "gridcolor": "white",
           "linecolor": "white",
           "ticks": "",
           "title": {
            "standoff": 15
           },
           "zerolinecolor": "white",
           "zerolinewidth": 2
          },
          "yaxis": {
           "automargin": true,
           "gridcolor": "white",
           "linecolor": "white",
           "ticks": "",
           "title": {
            "standoff": 15
           },
           "zerolinecolor": "white",
           "zerolinewidth": 2
          }
         }
        },
        "title": {
         "text": "Comportamiento AMAZON"
        },
        "xaxis": {
         "anchor": "y",
         "domain": [
          0,
          1
         ],
         "title": {
          "text": "Fecha_dias"
         }
        },
        "yaxis": {
         "anchor": "x",
         "domain": [
          0,
          1
         ],
         "title": {
          "text": "AMZN"
         }
        }
       }
      }
     },
     "metadata": {},
     "output_type": "display_data"
    }
   ],
   "source": [
    "import plotly.express as px\n",
    "\n",
    "\n",
    "fig=px.line(data_frame=df_n,x='Fecha',y='AMZN',title='Comportamiento AMAZON',\\\n",
    "             labels={\n",
    "                     \"Fecha\": \"Fecha_dias\",\n",
    "                     \"value\": \"Precio (USD)\"\n",
    "                 })\n",
    "fig.update_layout(paper_bgcolor=\"#FFFFFF\",plot_bgcolor='#FFFFFF',)\n",
    "\n",
    "fig.show()"
   ]
  },
  {
   "cell_type": "markdown",
   "metadata": {
    "id": "BST8_-IOXUBC"
   },
   "source": [
    "# Parte 2"
   ]
  },
  {
   "cell_type": "code",
   "execution_count": 13,
   "metadata": {
    "colab": {
     "base_uri": "https://localhost:8080/",
     "height": 424
    },
    "executionInfo": {
     "elapsed": 10,
     "status": "ok",
     "timestamp": 1660683569163,
     "user": {
      "displayName": "Oswaldo Villa Pérez",
      "userId": "18212702333962823769"
     },
     "user_tz": 300
    },
    "id": "b2mWGzfsXVLB",
    "outputId": "c88bb276-a61b-4930-8d67-7dc7add3deb0"
   },
   "outputs": [
    {
     "data": {
      "text/html": [
       "<div>\n",
       "<style scoped>\n",
       "    .dataframe tbody tr th:only-of-type {\n",
       "        vertical-align: middle;\n",
       "    }\n",
       "\n",
       "    .dataframe tbody tr th {\n",
       "        vertical-align: top;\n",
       "    }\n",
       "\n",
       "    .dataframe thead th {\n",
       "        text-align: right;\n",
       "    }\n",
       "</style>\n",
       "<table border=\"1\" class=\"dataframe\">\n",
       "  <thead>\n",
       "    <tr style=\"text-align: right;\">\n",
       "      <th></th>\n",
       "      <th>GOOG</th>\n",
       "      <th>Fecha</th>\n",
       "    </tr>\n",
       "  </thead>\n",
       "  <tbody>\n",
       "    <tr>\n",
       "      <th>0</th>\n",
       "      <td>742.950012</td>\n",
       "      <td>2016-01-01</td>\n",
       "    </tr>\n",
       "    <tr>\n",
       "      <th>1</th>\n",
       "      <td>697.770020</td>\n",
       "      <td>2016-02-01</td>\n",
       "    </tr>\n",
       "    <tr>\n",
       "      <th>2</th>\n",
       "      <td>744.950012</td>\n",
       "      <td>2016-03-01</td>\n",
       "    </tr>\n",
       "    <tr>\n",
       "      <th>3</th>\n",
       "      <td>693.010010</td>\n",
       "      <td>2016-04-01</td>\n",
       "    </tr>\n",
       "    <tr>\n",
       "      <th>4</th>\n",
       "      <td>735.719971</td>\n",
       "      <td>2016-05-01</td>\n",
       "    </tr>\n",
       "    <tr>\n",
       "      <th>...</th>\n",
       "      <td>...</td>\n",
       "      <td>...</td>\n",
       "    </tr>\n",
       "    <tr>\n",
       "      <th>66</th>\n",
       "      <td>2704.419922</td>\n",
       "      <td>2021-07-01</td>\n",
       "    </tr>\n",
       "    <tr>\n",
       "      <th>67</th>\n",
       "      <td>2909.239990</td>\n",
       "      <td>2021-08-01</td>\n",
       "    </tr>\n",
       "    <tr>\n",
       "      <th>68</th>\n",
       "      <td>2665.310059</td>\n",
       "      <td>2021-09-01</td>\n",
       "    </tr>\n",
       "    <tr>\n",
       "      <th>69</th>\n",
       "      <td>2965.409912</td>\n",
       "      <td>2021-10-01</td>\n",
       "    </tr>\n",
       "    <tr>\n",
       "      <th>70</th>\n",
       "      <td>2849.040039</td>\n",
       "      <td>2021-11-01</td>\n",
       "    </tr>\n",
       "  </tbody>\n",
       "</table>\n",
       "<p>71 rows × 2 columns</p>\n",
       "</div>"
      ],
      "text/plain": [
       "           GOOG      Fecha\n",
       "0    742.950012 2016-01-01\n",
       "1    697.770020 2016-02-01\n",
       "2    744.950012 2016-03-01\n",
       "3    693.010010 2016-04-01\n",
       "4    735.719971 2016-05-01\n",
       "..          ...        ...\n",
       "66  2704.419922 2021-07-01\n",
       "67  2909.239990 2021-08-01\n",
       "68  2665.310059 2021-09-01\n",
       "69  2965.409912 2021-10-01\n",
       "70  2849.040039 2021-11-01\n",
       "\n",
       "[71 rows x 2 columns]"
      ]
     },
     "execution_count": 13,
     "metadata": {},
     "output_type": "execute_result"
    }
   ],
   "source": [
    "df_n"
   ]
  },
  {
   "cell_type": "code",
   "execution_count": 24,
   "metadata": {},
   "outputs": [
    {
     "data": {
      "text/html": [
       "<div>\n",
       "<style scoped>\n",
       "    .dataframe tbody tr th:only-of-type {\n",
       "        vertical-align: middle;\n",
       "    }\n",
       "\n",
       "    .dataframe tbody tr th {\n",
       "        vertical-align: top;\n",
       "    }\n",
       "\n",
       "    .dataframe thead th {\n",
       "        text-align: right;\n",
       "    }\n",
       "</style>\n",
       "<table border=\"1\" class=\"dataframe\">\n",
       "  <thead>\n",
       "    <tr style=\"text-align: right;\">\n",
       "      <th></th>\n",
       "      <th>AMZN</th>\n",
       "      <th>Fecha</th>\n",
       "    </tr>\n",
       "  </thead>\n",
       "  <tbody>\n",
       "    <tr>\n",
       "      <th>0</th>\n",
       "      <td>587.000000</td>\n",
       "      <td>2016-01-01</td>\n",
       "    </tr>\n",
       "    <tr>\n",
       "      <th>1</th>\n",
       "      <td>552.520020</td>\n",
       "      <td>2016-02-01</td>\n",
       "    </tr>\n",
       "    <tr>\n",
       "      <th>2</th>\n",
       "      <td>593.640015</td>\n",
       "      <td>2016-03-01</td>\n",
       "    </tr>\n",
       "    <tr>\n",
       "      <th>3</th>\n",
       "      <td>659.590027</td>\n",
       "      <td>2016-04-01</td>\n",
       "    </tr>\n",
       "    <tr>\n",
       "      <th>4</th>\n",
       "      <td>722.789978</td>\n",
       "      <td>2016-05-01</td>\n",
       "    </tr>\n",
       "    <tr>\n",
       "      <th>...</th>\n",
       "      <td>...</td>\n",
       "      <td>...</td>\n",
       "    </tr>\n",
       "    <tr>\n",
       "      <th>66</th>\n",
       "      <td>3327.590088</td>\n",
       "      <td>2021-07-01</td>\n",
       "    </tr>\n",
       "    <tr>\n",
       "      <th>67</th>\n",
       "      <td>3470.790039</td>\n",
       "      <td>2021-08-01</td>\n",
       "    </tr>\n",
       "    <tr>\n",
       "      <th>68</th>\n",
       "      <td>3285.040039</td>\n",
       "      <td>2021-09-01</td>\n",
       "    </tr>\n",
       "    <tr>\n",
       "      <th>69</th>\n",
       "      <td>3372.429932</td>\n",
       "      <td>2021-10-01</td>\n",
       "    </tr>\n",
       "    <tr>\n",
       "      <th>70</th>\n",
       "      <td>3507.070068</td>\n",
       "      <td>2021-11-01</td>\n",
       "    </tr>\n",
       "  </tbody>\n",
       "</table>\n",
       "<p>71 rows × 2 columns</p>\n",
       "</div>"
      ],
      "text/plain": [
       "           AMZN      Fecha\n",
       "0    587.000000 2016-01-01\n",
       "1    552.520020 2016-02-01\n",
       "2    593.640015 2016-03-01\n",
       "3    659.590027 2016-04-01\n",
       "4    722.789978 2016-05-01\n",
       "..          ...        ...\n",
       "66  3327.590088 2021-07-01\n",
       "67  3470.790039 2021-08-01\n",
       "68  3285.040039 2021-09-01\n",
       "69  3372.429932 2021-10-01\n",
       "70  3507.070068 2021-11-01\n",
       "\n",
       "[71 rows x 2 columns]"
      ]
     },
     "execution_count": 24,
     "metadata": {},
     "output_type": "execute_result"
    }
   ],
   "source": [
    "df_n"
   ]
  },
  {
   "cell_type": "code",
   "execution_count": 14,
   "metadata": {
    "colab": {
     "base_uri": "https://localhost:8080/",
     "height": 424
    },
    "executionInfo": {
     "elapsed": 9,
     "status": "ok",
     "timestamp": 1660683569164,
     "user": {
      "displayName": "Oswaldo Villa Pérez",
      "userId": "18212702333962823769"
     },
     "user_tz": 300
    },
    "id": "D-9MK3XXXgem",
    "outputId": "b2f652de-5f52-49b2-d2ed-e1d3a7913a7f"
   },
   "outputs": [
    {
     "data": {
      "text/html": [
       "<div>\n",
       "<style scoped>\n",
       "    .dataframe tbody tr th:only-of-type {\n",
       "        vertical-align: middle;\n",
       "    }\n",
       "\n",
       "    .dataframe tbody tr th {\n",
       "        vertical-align: top;\n",
       "    }\n",
       "\n",
       "    .dataframe thead th {\n",
       "        text-align: right;\n",
       "    }\n",
       "</style>\n",
       "<table border=\"1\" class=\"dataframe\">\n",
       "  <thead>\n",
       "    <tr style=\"text-align: right;\">\n",
       "      <th></th>\n",
       "      <th>GOOG</th>\n",
       "      <th>Fecha</th>\n",
       "      <th>Dif</th>\n",
       "    </tr>\n",
       "  </thead>\n",
       "  <tbody>\n",
       "    <tr>\n",
       "      <th>0</th>\n",
       "      <td>742.950012</td>\n",
       "      <td>2016-01-01</td>\n",
       "      <td>NaN</td>\n",
       "    </tr>\n",
       "    <tr>\n",
       "      <th>1</th>\n",
       "      <td>697.770020</td>\n",
       "      <td>2016-02-01</td>\n",
       "      <td>-45.179993</td>\n",
       "    </tr>\n",
       "    <tr>\n",
       "      <th>2</th>\n",
       "      <td>744.950012</td>\n",
       "      <td>2016-03-01</td>\n",
       "      <td>47.179993</td>\n",
       "    </tr>\n",
       "    <tr>\n",
       "      <th>3</th>\n",
       "      <td>693.010010</td>\n",
       "      <td>2016-04-01</td>\n",
       "      <td>-51.940002</td>\n",
       "    </tr>\n",
       "    <tr>\n",
       "      <th>4</th>\n",
       "      <td>735.719971</td>\n",
       "      <td>2016-05-01</td>\n",
       "      <td>42.709961</td>\n",
       "    </tr>\n",
       "    <tr>\n",
       "      <th>...</th>\n",
       "      <td>...</td>\n",
       "      <td>...</td>\n",
       "      <td>...</td>\n",
       "    </tr>\n",
       "    <tr>\n",
       "      <th>66</th>\n",
       "      <td>2704.419922</td>\n",
       "      <td>2021-07-01</td>\n",
       "      <td>198.099854</td>\n",
       "    </tr>\n",
       "    <tr>\n",
       "      <th>67</th>\n",
       "      <td>2909.239990</td>\n",
       "      <td>2021-08-01</td>\n",
       "      <td>204.820068</td>\n",
       "    </tr>\n",
       "    <tr>\n",
       "      <th>68</th>\n",
       "      <td>2665.310059</td>\n",
       "      <td>2021-09-01</td>\n",
       "      <td>-243.929932</td>\n",
       "    </tr>\n",
       "    <tr>\n",
       "      <th>69</th>\n",
       "      <td>2965.409912</td>\n",
       "      <td>2021-10-01</td>\n",
       "      <td>300.099854</td>\n",
       "    </tr>\n",
       "    <tr>\n",
       "      <th>70</th>\n",
       "      <td>2849.040039</td>\n",
       "      <td>2021-11-01</td>\n",
       "      <td>-116.369873</td>\n",
       "    </tr>\n",
       "  </tbody>\n",
       "</table>\n",
       "<p>71 rows × 3 columns</p>\n",
       "</div>"
      ],
      "text/plain": [
       "           GOOG      Fecha         Dif\n",
       "0    742.950012 2016-01-01         NaN\n",
       "1    697.770020 2016-02-01  -45.179993\n",
       "2    744.950012 2016-03-01   47.179993\n",
       "3    693.010010 2016-04-01  -51.940002\n",
       "4    735.719971 2016-05-01   42.709961\n",
       "..          ...        ...         ...\n",
       "66  2704.419922 2021-07-01  198.099854\n",
       "67  2909.239990 2021-08-01  204.820068\n",
       "68  2665.310059 2021-09-01 -243.929932\n",
       "69  2965.409912 2021-10-01  300.099854\n",
       "70  2849.040039 2021-11-01 -116.369873\n",
       "\n",
       "[71 rows x 3 columns]"
      ]
     },
     "execution_count": 14,
     "metadata": {},
     "output_type": "execute_result"
    }
   ],
   "source": [
    "pasos = 2\n",
    "def my_fun(x):\n",
    "    return x.iloc[-1] - x.iloc[0]\n",
    "\n",
    "df_n['Dif']=df_n['GOOG'].rolling(window=pasos).apply(my_fun) # Hacemos la diferencia del valor actual - anterior\n",
    "df_n"
   ]
  },
  {
   "cell_type": "code",
   "execution_count": 25,
   "metadata": {},
   "outputs": [
    {
     "data": {
      "text/html": [
       "<div>\n",
       "<style scoped>\n",
       "    .dataframe tbody tr th:only-of-type {\n",
       "        vertical-align: middle;\n",
       "    }\n",
       "\n",
       "    .dataframe tbody tr th {\n",
       "        vertical-align: top;\n",
       "    }\n",
       "\n",
       "    .dataframe thead th {\n",
       "        text-align: right;\n",
       "    }\n",
       "</style>\n",
       "<table border=\"1\" class=\"dataframe\">\n",
       "  <thead>\n",
       "    <tr style=\"text-align: right;\">\n",
       "      <th></th>\n",
       "      <th>AMZN</th>\n",
       "      <th>Fecha</th>\n",
       "      <th>Dif</th>\n",
       "    </tr>\n",
       "  </thead>\n",
       "  <tbody>\n",
       "    <tr>\n",
       "      <th>0</th>\n",
       "      <td>587.000000</td>\n",
       "      <td>2016-01-01</td>\n",
       "      <td>NaN</td>\n",
       "    </tr>\n",
       "    <tr>\n",
       "      <th>1</th>\n",
       "      <td>552.520020</td>\n",
       "      <td>2016-02-01</td>\n",
       "      <td>-34.479980</td>\n",
       "    </tr>\n",
       "    <tr>\n",
       "      <th>2</th>\n",
       "      <td>593.640015</td>\n",
       "      <td>2016-03-01</td>\n",
       "      <td>41.119995</td>\n",
       "    </tr>\n",
       "    <tr>\n",
       "      <th>3</th>\n",
       "      <td>659.590027</td>\n",
       "      <td>2016-04-01</td>\n",
       "      <td>65.950012</td>\n",
       "    </tr>\n",
       "    <tr>\n",
       "      <th>4</th>\n",
       "      <td>722.789978</td>\n",
       "      <td>2016-05-01</td>\n",
       "      <td>63.199951</td>\n",
       "    </tr>\n",
       "    <tr>\n",
       "      <th>...</th>\n",
       "      <td>...</td>\n",
       "      <td>...</td>\n",
       "      <td>...</td>\n",
       "    </tr>\n",
       "    <tr>\n",
       "      <th>66</th>\n",
       "      <td>3327.590088</td>\n",
       "      <td>2021-07-01</td>\n",
       "      <td>-112.569824</td>\n",
       "    </tr>\n",
       "    <tr>\n",
       "      <th>67</th>\n",
       "      <td>3470.790039</td>\n",
       "      <td>2021-08-01</td>\n",
       "      <td>143.199951</td>\n",
       "    </tr>\n",
       "    <tr>\n",
       "      <th>68</th>\n",
       "      <td>3285.040039</td>\n",
       "      <td>2021-09-01</td>\n",
       "      <td>-185.750000</td>\n",
       "    </tr>\n",
       "    <tr>\n",
       "      <th>69</th>\n",
       "      <td>3372.429932</td>\n",
       "      <td>2021-10-01</td>\n",
       "      <td>87.389893</td>\n",
       "    </tr>\n",
       "    <tr>\n",
       "      <th>70</th>\n",
       "      <td>3507.070068</td>\n",
       "      <td>2021-11-01</td>\n",
       "      <td>134.640137</td>\n",
       "    </tr>\n",
       "  </tbody>\n",
       "</table>\n",
       "<p>71 rows × 3 columns</p>\n",
       "</div>"
      ],
      "text/plain": [
       "           AMZN      Fecha         Dif\n",
       "0    587.000000 2016-01-01         NaN\n",
       "1    552.520020 2016-02-01  -34.479980\n",
       "2    593.640015 2016-03-01   41.119995\n",
       "3    659.590027 2016-04-01   65.950012\n",
       "4    722.789978 2016-05-01   63.199951\n",
       "..          ...        ...         ...\n",
       "66  3327.590088 2021-07-01 -112.569824\n",
       "67  3470.790039 2021-08-01  143.199951\n",
       "68  3285.040039 2021-09-01 -185.750000\n",
       "69  3372.429932 2021-10-01   87.389893\n",
       "70  3507.070068 2021-11-01  134.640137\n",
       "\n",
       "[71 rows x 3 columns]"
      ]
     },
     "execution_count": 25,
     "metadata": {},
     "output_type": "execute_result"
    }
   ],
   "source": [
    "pasos = 2\n",
    "def my_fun(x):\n",
    "    return x.iloc[-1] - x.iloc[0]\n",
    "\n",
    "df_n['Dif']=df_n['AMZN'].rolling(window=pasos).apply(my_fun) # Hacemos la diferencia del valor actual - anterior\n",
    "df_n"
   ]
  },
  {
   "cell_type": "code",
   "execution_count": 15,
   "metadata": {
    "colab": {
     "base_uri": "https://localhost:8080/"
    },
    "executionInfo": {
     "elapsed": 8,
     "status": "ok",
     "timestamp": 1660683569516,
     "user": {
      "displayName": "Oswaldo Villa Pérez",
      "userId": "18212702333962823769"
     },
     "user_tz": 300
    },
    "id": "ZxtSlKy9XwY5",
    "outputId": "73d540a2-c8a0-4dc0-cead-a49d8ba9900a"
   },
   "outputs": [
    {
     "data": {
      "text/plain": [
       "0     False\n",
       "1      True\n",
       "2     False\n",
       "3      True\n",
       "4     False\n",
       "      ...  \n",
       "66    False\n",
       "67    False\n",
       "68     True\n",
       "69    False\n",
       "70     True\n",
       "Name: Dif, Length: 71, dtype: bool"
      ]
     },
     "execution_count": 15,
     "metadata": {},
     "output_type": "execute_result"
    }
   ],
   "source": [
    "# HAcemos un filtro de cuando los valores de Dif <0\n",
    "index_bool= df_n.Dif<0\n",
    "index_bool"
   ]
  },
  {
   "cell_type": "code",
   "execution_count": 26,
   "metadata": {},
   "outputs": [
    {
     "data": {
      "text/plain": [
       "0     False\n",
       "1      True\n",
       "2     False\n",
       "3     False\n",
       "4     False\n",
       "      ...  \n",
       "66     True\n",
       "67    False\n",
       "68     True\n",
       "69    False\n",
       "70    False\n",
       "Name: Dif, Length: 71, dtype: bool"
      ]
     },
     "execution_count": 26,
     "metadata": {},
     "output_type": "execute_result"
    }
   ],
   "source": [
    "# HAcemos un filtro de cuando los valores de Dif <0\n",
    "index_bool= df_n.Dif<0\n",
    "index_bool"
   ]
  },
  {
   "cell_type": "code",
   "execution_count": 16,
   "metadata": {
    "colab": {
     "base_uri": "https://localhost:8080/",
     "height": 739
    },
    "executionInfo": {
     "elapsed": 7,
     "status": "ok",
     "timestamp": 1660683569517,
     "user": {
      "displayName": "Oswaldo Villa Pérez",
      "userId": "18212702333962823769"
     },
     "user_tz": 300
    },
    "id": "SkkegY8gX5Vn",
    "outputId": "188ee9f3-dbc5-41b4-e8e2-f3497d15c9cb"
   },
   "outputs": [
    {
     "data": {
      "text/html": [
       "<div>\n",
       "<style scoped>\n",
       "    .dataframe tbody tr th:only-of-type {\n",
       "        vertical-align: middle;\n",
       "    }\n",
       "\n",
       "    .dataframe tbody tr th {\n",
       "        vertical-align: top;\n",
       "    }\n",
       "\n",
       "    .dataframe thead th {\n",
       "        text-align: right;\n",
       "    }\n",
       "</style>\n",
       "<table border=\"1\" class=\"dataframe\">\n",
       "  <thead>\n",
       "    <tr style=\"text-align: right;\">\n",
       "      <th></th>\n",
       "      <th>GOOG</th>\n",
       "      <th>Fecha</th>\n",
       "      <th>Dif</th>\n",
       "    </tr>\n",
       "  </thead>\n",
       "  <tbody>\n",
       "    <tr>\n",
       "      <th>1</th>\n",
       "      <td>697.770020</td>\n",
       "      <td>2016-02-01</td>\n",
       "      <td>-45.179993</td>\n",
       "    </tr>\n",
       "    <tr>\n",
       "      <th>3</th>\n",
       "      <td>693.010010</td>\n",
       "      <td>2016-04-01</td>\n",
       "      <td>-51.940002</td>\n",
       "    </tr>\n",
       "    <tr>\n",
       "      <th>5</th>\n",
       "      <td>692.099976</td>\n",
       "      <td>2016-06-01</td>\n",
       "      <td>-43.619995</td>\n",
       "    </tr>\n",
       "    <tr>\n",
       "      <th>7</th>\n",
       "      <td>767.049988</td>\n",
       "      <td>2016-08-01</td>\n",
       "      <td>-1.739990</td>\n",
       "    </tr>\n",
       "    <tr>\n",
       "      <th>10</th>\n",
       "      <td>758.039978</td>\n",
       "      <td>2016-11-01</td>\n",
       "      <td>-26.500000</td>\n",
       "    </tr>\n",
       "    <tr>\n",
       "      <th>17</th>\n",
       "      <td>908.729980</td>\n",
       "      <td>2017-06-01</td>\n",
       "      <td>-56.130005</td>\n",
       "    </tr>\n",
       "    <tr>\n",
       "      <th>25</th>\n",
       "      <td>1104.729980</td>\n",
       "      <td>2018-02-01</td>\n",
       "      <td>-65.209961</td>\n",
       "    </tr>\n",
       "    <tr>\n",
       "      <th>26</th>\n",
       "      <td>1031.790039</td>\n",
       "      <td>2018-03-01</td>\n",
       "      <td>-72.939941</td>\n",
       "    </tr>\n",
       "    <tr>\n",
       "      <th>27</th>\n",
       "      <td>1017.330017</td>\n",
       "      <td>2018-04-01</td>\n",
       "      <td>-14.460022</td>\n",
       "    </tr>\n",
       "    <tr>\n",
       "      <th>32</th>\n",
       "      <td>1193.469971</td>\n",
       "      <td>2018-09-01</td>\n",
       "      <td>-24.719971</td>\n",
       "    </tr>\n",
       "    <tr>\n",
       "      <th>33</th>\n",
       "      <td>1076.770020</td>\n",
       "      <td>2018-10-01</td>\n",
       "      <td>-116.699951</td>\n",
       "    </tr>\n",
       "    <tr>\n",
       "      <th>35</th>\n",
       "      <td>1035.609985</td>\n",
       "      <td>2018-12-01</td>\n",
       "      <td>-58.820068</td>\n",
       "    </tr>\n",
       "    <tr>\n",
       "      <th>40</th>\n",
       "      <td>1103.630005</td>\n",
       "      <td>2019-05-01</td>\n",
       "      <td>-84.849976</td>\n",
       "    </tr>\n",
       "    <tr>\n",
       "      <th>41</th>\n",
       "      <td>1080.910034</td>\n",
       "      <td>2019-06-01</td>\n",
       "      <td>-22.719971</td>\n",
       "    </tr>\n",
       "    <tr>\n",
       "      <th>43</th>\n",
       "      <td>1188.099976</td>\n",
       "      <td>2019-08-01</td>\n",
       "      <td>-28.580078</td>\n",
       "    </tr>\n",
       "    <tr>\n",
       "      <th>49</th>\n",
       "      <td>1339.329956</td>\n",
       "      <td>2020-02-01</td>\n",
       "      <td>-94.900024</td>\n",
       "    </tr>\n",
       "    <tr>\n",
       "      <th>50</th>\n",
       "      <td>1162.810059</td>\n",
       "      <td>2020-03-01</td>\n",
       "      <td>-176.519897</td>\n",
       "    </tr>\n",
       "    <tr>\n",
       "      <th>53</th>\n",
       "      <td>1413.609985</td>\n",
       "      <td>2020-06-01</td>\n",
       "      <td>-15.310059</td>\n",
       "    </tr>\n",
       "    <tr>\n",
       "      <th>56</th>\n",
       "      <td>1469.599976</td>\n",
       "      <td>2020-09-01</td>\n",
       "      <td>-164.580078</td>\n",
       "    </tr>\n",
       "    <tr>\n",
       "      <th>59</th>\n",
       "      <td>1751.880005</td>\n",
       "      <td>2020-12-01</td>\n",
       "      <td>-8.859985</td>\n",
       "    </tr>\n",
       "    <tr>\n",
       "      <th>68</th>\n",
       "      <td>2665.310059</td>\n",
       "      <td>2021-09-01</td>\n",
       "      <td>-243.929932</td>\n",
       "    </tr>\n",
       "    <tr>\n",
       "      <th>70</th>\n",
       "      <td>2849.040039</td>\n",
       "      <td>2021-11-01</td>\n",
       "      <td>-116.369873</td>\n",
       "    </tr>\n",
       "  </tbody>\n",
       "</table>\n",
       "</div>"
      ],
      "text/plain": [
       "           GOOG      Fecha         Dif\n",
       "1    697.770020 2016-02-01  -45.179993\n",
       "3    693.010010 2016-04-01  -51.940002\n",
       "5    692.099976 2016-06-01  -43.619995\n",
       "7    767.049988 2016-08-01   -1.739990\n",
       "10   758.039978 2016-11-01  -26.500000\n",
       "17   908.729980 2017-06-01  -56.130005\n",
       "25  1104.729980 2018-02-01  -65.209961\n",
       "26  1031.790039 2018-03-01  -72.939941\n",
       "27  1017.330017 2018-04-01  -14.460022\n",
       "32  1193.469971 2018-09-01  -24.719971\n",
       "33  1076.770020 2018-10-01 -116.699951\n",
       "35  1035.609985 2018-12-01  -58.820068\n",
       "40  1103.630005 2019-05-01  -84.849976\n",
       "41  1080.910034 2019-06-01  -22.719971\n",
       "43  1188.099976 2019-08-01  -28.580078\n",
       "49  1339.329956 2020-02-01  -94.900024\n",
       "50  1162.810059 2020-03-01 -176.519897\n",
       "53  1413.609985 2020-06-01  -15.310059\n",
       "56  1469.599976 2020-09-01 -164.580078\n",
       "59  1751.880005 2020-12-01   -8.859985\n",
       "68  2665.310059 2021-09-01 -243.929932\n",
       "70  2849.040039 2021-11-01 -116.369873"
      ]
     },
     "execution_count": 16,
     "metadata": {},
     "output_type": "execute_result"
    }
   ],
   "source": [
    "# Ahora podemos aplicar el filtro sobre el objeto data frame\n",
    "df_neg=df_n.loc[index_bool,:]\n",
    "df_neg"
   ]
  },
  {
   "cell_type": "code",
   "execution_count": 27,
   "metadata": {},
   "outputs": [
    {
     "data": {
      "text/html": [
       "<div>\n",
       "<style scoped>\n",
       "    .dataframe tbody tr th:only-of-type {\n",
       "        vertical-align: middle;\n",
       "    }\n",
       "\n",
       "    .dataframe tbody tr th {\n",
       "        vertical-align: top;\n",
       "    }\n",
       "\n",
       "    .dataframe thead th {\n",
       "        text-align: right;\n",
       "    }\n",
       "</style>\n",
       "<table border=\"1\" class=\"dataframe\">\n",
       "  <thead>\n",
       "    <tr style=\"text-align: right;\">\n",
       "      <th></th>\n",
       "      <th>AMZN</th>\n",
       "      <th>Fecha</th>\n",
       "      <th>Dif</th>\n",
       "    </tr>\n",
       "  </thead>\n",
       "  <tbody>\n",
       "    <tr>\n",
       "      <th>1</th>\n",
       "      <td>552.520020</td>\n",
       "      <td>2016-02-01</td>\n",
       "      <td>-34.479980</td>\n",
       "    </tr>\n",
       "    <tr>\n",
       "      <th>5</th>\n",
       "      <td>715.619995</td>\n",
       "      <td>2016-06-01</td>\n",
       "      <td>-7.169983</td>\n",
       "    </tr>\n",
       "    <tr>\n",
       "      <th>9</th>\n",
       "      <td>789.820007</td>\n",
       "      <td>2016-10-01</td>\n",
       "      <td>-47.489990</td>\n",
       "    </tr>\n",
       "    <tr>\n",
       "      <th>10</th>\n",
       "      <td>750.570007</td>\n",
       "      <td>2016-11-01</td>\n",
       "      <td>-39.250000</td>\n",
       "    </tr>\n",
       "    <tr>\n",
       "      <th>11</th>\n",
       "      <td>749.869995</td>\n",
       "      <td>2016-12-01</td>\n",
       "      <td>-0.700012</td>\n",
       "    </tr>\n",
       "    <tr>\n",
       "      <th>17</th>\n",
       "      <td>968.000000</td>\n",
       "      <td>2017-06-01</td>\n",
       "      <td>-26.619995</td>\n",
       "    </tr>\n",
       "    <tr>\n",
       "      <th>19</th>\n",
       "      <td>980.599976</td>\n",
       "      <td>2017-08-01</td>\n",
       "      <td>-7.180054</td>\n",
       "    </tr>\n",
       "    <tr>\n",
       "      <th>20</th>\n",
       "      <td>961.349976</td>\n",
       "      <td>2017-09-01</td>\n",
       "      <td>-19.250000</td>\n",
       "    </tr>\n",
       "    <tr>\n",
       "      <th>23</th>\n",
       "      <td>1169.469971</td>\n",
       "      <td>2017-12-01</td>\n",
       "      <td>-7.280029</td>\n",
       "    </tr>\n",
       "    <tr>\n",
       "      <th>26</th>\n",
       "      <td>1447.339966</td>\n",
       "      <td>2018-03-01</td>\n",
       "      <td>-65.109985</td>\n",
       "    </tr>\n",
       "    <tr>\n",
       "      <th>32</th>\n",
       "      <td>2003.000000</td>\n",
       "      <td>2018-09-01</td>\n",
       "      <td>-9.709961</td>\n",
       "    </tr>\n",
       "    <tr>\n",
       "      <th>33</th>\n",
       "      <td>1598.010010</td>\n",
       "      <td>2018-10-01</td>\n",
       "      <td>-404.989990</td>\n",
       "    </tr>\n",
       "    <tr>\n",
       "      <th>35</th>\n",
       "      <td>1501.969971</td>\n",
       "      <td>2018-12-01</td>\n",
       "      <td>-188.200073</td>\n",
       "    </tr>\n",
       "    <tr>\n",
       "      <th>37</th>\n",
       "      <td>1639.829956</td>\n",
       "      <td>2019-02-01</td>\n",
       "      <td>-78.900024</td>\n",
       "    </tr>\n",
       "    <tr>\n",
       "      <th>40</th>\n",
       "      <td>1775.069946</td>\n",
       "      <td>2019-05-01</td>\n",
       "      <td>-151.450073</td>\n",
       "    </tr>\n",
       "    <tr>\n",
       "      <th>42</th>\n",
       "      <td>1866.780029</td>\n",
       "      <td>2019-07-01</td>\n",
       "      <td>-26.849976</td>\n",
       "    </tr>\n",
       "    <tr>\n",
       "      <th>43</th>\n",
       "      <td>1776.290039</td>\n",
       "      <td>2019-08-01</td>\n",
       "      <td>-90.489990</td>\n",
       "    </tr>\n",
       "    <tr>\n",
       "      <th>44</th>\n",
       "      <td>1735.910034</td>\n",
       "      <td>2019-09-01</td>\n",
       "      <td>-40.380005</td>\n",
       "    </tr>\n",
       "    <tr>\n",
       "      <th>49</th>\n",
       "      <td>1883.750000</td>\n",
       "      <td>2020-02-01</td>\n",
       "      <td>-124.969971</td>\n",
       "    </tr>\n",
       "    <tr>\n",
       "      <th>52</th>\n",
       "      <td>2442.370117</td>\n",
       "      <td>2020-05-01</td>\n",
       "      <td>-31.629883</td>\n",
       "    </tr>\n",
       "    <tr>\n",
       "      <th>56</th>\n",
       "      <td>3148.729980</td>\n",
       "      <td>2020-09-01</td>\n",
       "      <td>-302.229980</td>\n",
       "    </tr>\n",
       "    <tr>\n",
       "      <th>57</th>\n",
       "      <td>3036.149902</td>\n",
       "      <td>2020-10-01</td>\n",
       "      <td>-112.580078</td>\n",
       "    </tr>\n",
       "    <tr>\n",
       "      <th>60</th>\n",
       "      <td>3206.199951</td>\n",
       "      <td>2021-01-01</td>\n",
       "      <td>-50.729980</td>\n",
       "    </tr>\n",
       "    <tr>\n",
       "      <th>61</th>\n",
       "      <td>3092.929932</td>\n",
       "      <td>2021-02-01</td>\n",
       "      <td>-113.270020</td>\n",
       "    </tr>\n",
       "    <tr>\n",
       "      <th>64</th>\n",
       "      <td>3223.070068</td>\n",
       "      <td>2021-05-01</td>\n",
       "      <td>-244.349854</td>\n",
       "    </tr>\n",
       "    <tr>\n",
       "      <th>66</th>\n",
       "      <td>3327.590088</td>\n",
       "      <td>2021-07-01</td>\n",
       "      <td>-112.569824</td>\n",
       "    </tr>\n",
       "    <tr>\n",
       "      <th>68</th>\n",
       "      <td>3285.040039</td>\n",
       "      <td>2021-09-01</td>\n",
       "      <td>-185.750000</td>\n",
       "    </tr>\n",
       "  </tbody>\n",
       "</table>\n",
       "</div>"
      ],
      "text/plain": [
       "           AMZN      Fecha         Dif\n",
       "1    552.520020 2016-02-01  -34.479980\n",
       "5    715.619995 2016-06-01   -7.169983\n",
       "9    789.820007 2016-10-01  -47.489990\n",
       "10   750.570007 2016-11-01  -39.250000\n",
       "11   749.869995 2016-12-01   -0.700012\n",
       "17   968.000000 2017-06-01  -26.619995\n",
       "19   980.599976 2017-08-01   -7.180054\n",
       "20   961.349976 2017-09-01  -19.250000\n",
       "23  1169.469971 2017-12-01   -7.280029\n",
       "26  1447.339966 2018-03-01  -65.109985\n",
       "32  2003.000000 2018-09-01   -9.709961\n",
       "33  1598.010010 2018-10-01 -404.989990\n",
       "35  1501.969971 2018-12-01 -188.200073\n",
       "37  1639.829956 2019-02-01  -78.900024\n",
       "40  1775.069946 2019-05-01 -151.450073\n",
       "42  1866.780029 2019-07-01  -26.849976\n",
       "43  1776.290039 2019-08-01  -90.489990\n",
       "44  1735.910034 2019-09-01  -40.380005\n",
       "49  1883.750000 2020-02-01 -124.969971\n",
       "52  2442.370117 2020-05-01  -31.629883\n",
       "56  3148.729980 2020-09-01 -302.229980\n",
       "57  3036.149902 2020-10-01 -112.580078\n",
       "60  3206.199951 2021-01-01  -50.729980\n",
       "61  3092.929932 2021-02-01 -113.270020\n",
       "64  3223.070068 2021-05-01 -244.349854\n",
       "66  3327.590088 2021-07-01 -112.569824\n",
       "68  3285.040039 2021-09-01 -185.750000"
      ]
     },
     "execution_count": 27,
     "metadata": {},
     "output_type": "execute_result"
    }
   ],
   "source": [
    "# Ahora podemos aplicar el filtro sobre el objeto data frame\n",
    "df_neg=df_n.loc[index_bool,:]\n",
    "df_neg"
   ]
  },
  {
   "cell_type": "markdown",
   "metadata": {
    "id": "1UtVGx91YDRx"
   },
   "source": [
    "Solo existieron dos días donde la accion bajo de precio"
   ]
  },
  {
   "cell_type": "markdown",
   "metadata": {
    "id": "cJ-yd5CiYHL5"
   },
   "source": [
    "# Graficando fechas donde ocurrio la bajada"
   ]
  },
  {
   "cell_type": "code",
   "execution_count": 17,
   "metadata": {
    "colab": {
     "base_uri": "https://localhost:8080/"
    },
    "executionInfo": {
     "elapsed": 709,
     "status": "ok",
     "timestamp": 1660683570220,
     "user": {
      "displayName": "Oswaldo Villa Pérez",
      "userId": "18212702333962823769"
     },
     "user_tz": 300
    },
    "id": "4hx_iT3AYJ2z",
    "outputId": "070339cf-5abe-469c-e970-431ee4960348"
   },
   "outputs": [
    {
     "data": {
      "text/plain": [
       "<matplotlib.legend.Legend at 0x1aea5addb40>"
      ]
     },
     "execution_count": 17,
     "metadata": {},
     "output_type": "execute_result"
    },
    {
     "data": {
      "image/png": "[encoded data removed]",
      "text/plain": [
       "<Figure size 1000x600 with 1 Axes>"
      ]
     },
     "metadata": {},
     "output_type": "display_data"
    }
   ],
   "source": [
    "import matplotlib.pyplot as plt\n",
    "fig,ax= plt.subplots(figsize=(10,6))\n",
    "ax.plot(df_n.Fecha,df_n.GOOG)\n",
    "ax.scatter(x=df_neg.Fecha, y= df_neg.GOOG, s=20, color='red', label='R')\n",
    "ax.set_xlabel('Fecha')\n",
    "ax.set_ylabel('Precio')\n",
    "ax.set_title('Precio Accion vs tiempo')\n",
    "ax.legend(loc='upper left')"
   ]
  },
  {
   "cell_type": "code",
   "execution_count": 28,
   "metadata": {},
   "outputs": [
    {
     "data": {
      "text/plain": [
       "<matplotlib.legend.Legend at 0x1aea87ce710>"
      ]
     },
     "execution_count": 28,
     "metadata": {},
     "output_type": "execute_result"
    },
    {
     "data": {
      "image/png": "[encoded data removed]",
      "text/plain": [
       "<Figure size 1000x600 with 1 Axes>"
      ]
     },
     "metadata": {},
     "output_type": "display_data"
    }
   ],
   "source": [
    "import matplotlib.pyplot as plt\n",
    "fig,ax= plt.subplots(figsize=(10,6))\n",
    "ax.plot(df_n.Fecha,df_n.AMZN)\n",
    "ax.scatter(x=df_neg.Fecha, y= df_neg.AMZN, s=20, color='red', label='R')\n",
    "ax.set_xlabel('Fecha')\n",
    "ax.set_ylabel('Precio')\n",
    "ax.set_title('Precio Accion vs tiempo')\n",
    "ax.legend(loc='upper left')"
   ]
  },
  {
   "cell_type": "markdown",
   "metadata": {
    "id": "E-AyDhc8ZlMx"
   },
   "source": [
    "# Desafio\n",
    "\n",
    "Intenten hacer le mismo procedimiento para AMZN y observen si existe el mismo patron"
   ]
  },
  {
   "cell_type": "markdown",
   "metadata": {
    "id": "r06BKUeeZeJ0"
   },
   "source": [
    "Con esto entonces podemos monitorear cuando una accion puede disminuir su valor"
   ]
  }
 ],
 "metadata": {
  "colab": {
   "collapsed_sections": [],
   "name": "Clase_02.ipynb",
   "provenance": []
  },
  "kernelspec": {
   "display_name": "Python 3",
   "name": "python3"
  },
  "language_info": {
   "codemirror_mode": {
    "name": "ipython",
    "version": 3
   },
   "file_extension": ".py",
   "mimetype": "text/x-python",
   "name": "python",
   "nbconvert_exporter": "python",
   "pygments_lexer": "ipython3",
   "version": "3.10.4"
  }
 },
 "nbformat": 4,
 "nbformat_minor": 0
}
